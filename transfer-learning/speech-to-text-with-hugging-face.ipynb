{
 "cells": [
  {
   "cell_type": "markdown",
   "metadata": {
    "papermill": {
     "duration": 0.012075,
     "end_time": "2021-03-18T11:45:31.016271",
     "exception": false,
     "start_time": "2021-03-18T11:45:31.004196",
     "status": "completed"
    },
    "tags": []
   },
   "source": [
    "In this notebook we are going to see how to convert speech into text using Facebook Wav2Vec 2.0 model.Wav2Vec2 is a speech model that accepts a float array corresponding to the raw waveform of the speech signal. Wav2Vec2 model was trained using connectionist temporal classification (CTC) so the model output has to be decoded using Wav2Vec2Tokenizer.For learning more about it click on this [link](https://huggingface.co/transformers/model_doc/wav2vec2.html)"
   ]
  },
  {
   "cell_type": "code",
   "execution_count": 1,
   "metadata": {
    "execution": {
     "iopub.execute_input": "2021-03-18T11:45:31.042273Z",
     "iopub.status.busy": "2021-03-18T11:45:31.041628Z",
     "iopub.status.idle": "2021-03-18T11:45:43.592912Z",
     "shell.execute_reply": "2021-03-18T11:45:43.592238Z"
    },
    "papermill": {
     "duration": 12.565468,
     "end_time": "2021-03-18T11:45:43.593138",
     "exception": false,
     "start_time": "2021-03-18T11:45:31.027670",
     "status": "completed"
    },
    "tags": []
   },
   "outputs": [
    {
     "name": "stdout",
     "output_type": "stream",
     "text": [
      "Requirement already satisfied: transformers in /opt/conda/lib/python3.7/site-packages (4.2.2)\r\n",
      "Collecting transformers\r\n",
      "  Downloading transformers-4.4.1-py3-none-any.whl (2.1 MB)\r\n",
      "\u001b[K     |████████████████████████████████| 2.1 MB 4.6 MB/s \r\n",
      "\u001b[?25hCollecting tokenizers<0.11,>=0.10.1\r\n",
      "  Downloading tokenizers-0.10.1-cp37-cp37m-manylinux2010_x86_64.whl (3.2 MB)\r\n",
      "\u001b[K     |████████████████████████████████| 3.2 MB 24.9 MB/s \r\n",
      "\u001b[?25hRequirement already satisfied: packaging in /opt/conda/lib/python3.7/site-packages (from transformers) (20.8)\r\n",
      "Requirement already satisfied: requests in /opt/conda/lib/python3.7/site-packages (from transformers) (2.25.1)\r\n",
      "Requirement already satisfied: regex!=2019.12.17 in /opt/conda/lib/python3.7/site-packages (from transformers) (2020.11.13)\r\n",
      "Requirement already satisfied: filelock in /opt/conda/lib/python3.7/site-packages (from transformers) (3.0.12)\r\n",
      "Requirement already satisfied: importlib-metadata in /opt/conda/lib/python3.7/site-packages (from transformers) (3.3.0)\r\n",
      "Requirement already satisfied: sacremoses in /opt/conda/lib/python3.7/site-packages (from transformers) (0.0.43)\r\n",
      "Requirement already satisfied: tqdm>=4.27 in /opt/conda/lib/python3.7/site-packages (from transformers) (4.55.1)\r\n",
      "Requirement already satisfied: numpy>=1.17 in /opt/conda/lib/python3.7/site-packages (from transformers) (1.19.5)\r\n",
      "Requirement already satisfied: zipp>=0.5 in /opt/conda/lib/python3.7/site-packages (from importlib-metadata->transformers) (3.4.0)\r\n",
      "Requirement already satisfied: typing-extensions>=3.6.4 in /opt/conda/lib/python3.7/site-packages (from importlib-metadata->transformers) (3.7.4.3)\r\n",
      "Requirement already satisfied: pyparsing>=2.0.2 in /opt/conda/lib/python3.7/site-packages (from packaging->transformers) (2.4.7)\r\n",
      "Requirement already satisfied: chardet<5,>=3.0.2 in /opt/conda/lib/python3.7/site-packages (from requests->transformers) (3.0.4)\r\n",
      "Requirement already satisfied: urllib3<1.27,>=1.21.1 in /opt/conda/lib/python3.7/site-packages (from requests->transformers) (1.26.2)\r\n",
      "Requirement already satisfied: certifi>=2017.4.17 in /opt/conda/lib/python3.7/site-packages (from requests->transformers) (2020.12.5)\r\n",
      "Requirement already satisfied: idna<3,>=2.5 in /opt/conda/lib/python3.7/site-packages (from requests->transformers) (2.10)\r\n",
      "Requirement already satisfied: joblib in /opt/conda/lib/python3.7/site-packages (from sacremoses->transformers) (1.0.0)\r\n",
      "Requirement already satisfied: click in /opt/conda/lib/python3.7/site-packages (from sacremoses->transformers) (7.1.2)\r\n",
      "Requirement already satisfied: six in /opt/conda/lib/python3.7/site-packages (from sacremoses->transformers) (1.15.0)\r\n",
      "Installing collected packages: tokenizers, transformers\r\n",
      "  Attempting uninstall: tokenizers\r\n",
      "    Found existing installation: tokenizers 0.9.4\r\n",
      "    Uninstalling tokenizers-0.9.4:\r\n",
      "      Successfully uninstalled tokenizers-0.9.4\r\n",
      "  Attempting uninstall: transformers\r\n",
      "    Found existing installation: transformers 4.2.2\r\n",
      "    Uninstalling transformers-4.2.2:\r\n",
      "      Successfully uninstalled transformers-4.2.2\r\n",
      "\u001b[31mERROR: pip's dependency resolver does not currently take into account all the packages that are installed. This behaviour is the source of the following dependency conflicts.\r\n",
      "allennlp 2.0.1 requires transformers<4.3,>=4.1, but you have transformers 4.4.1 which is incompatible.\u001b[0m\r\n",
      "Successfully installed tokenizers-0.10.1 transformers-4.4.1\r\n"
     ]
    }
   ],
   "source": [
    "!pip install --upgrade transformers"
   ]
  },
  {
   "cell_type": "code",
   "execution_count": 2,
   "metadata": {
    "execution": {
     "iopub.execute_input": "2021-03-18T11:45:43.640078Z",
     "iopub.status.busy": "2021-03-18T11:45:43.639364Z",
     "iopub.status.idle": "2021-03-18T11:45:43.784669Z",
     "shell.execute_reply": "2021-03-18T11:45:43.784050Z"
    },
    "papermill": {
     "duration": 0.170983,
     "end_time": "2021-03-18T11:45:43.784810",
     "exception": false,
     "start_time": "2021-03-18T11:45:43.613827",
     "status": "completed"
    },
    "tags": []
   },
   "outputs": [
    {
     "name": "stdout",
     "output_type": "stream",
     "text": [
      "4.4.1\n"
     ]
    }
   ],
   "source": [
    "import transformers\n",
    "print(transformers.__version__)"
   ]
  },
  {
   "cell_type": "markdown",
   "metadata": {
    "papermill": {
     "duration": 0.019631,
     "end_time": "2021-03-18T11:45:43.824529",
     "exception": false,
     "start_time": "2021-03-18T11:45:43.804898",
     "status": "completed"
    },
    "tags": []
   },
   "source": [
    "If you don't see at least 4.3.0 version,then upgrade it"
   ]
  },
  {
   "cell_type": "markdown",
   "metadata": {
    "papermill": {
     "duration": 0.019648,
     "end_time": "2021-03-18T11:45:43.864233",
     "exception": false,
     "start_time": "2021-03-18T11:45:43.844585",
     "status": "completed"
    },
    "tags": []
   },
   "source": [
    "### Import Libraries"
   ]
  },
  {
   "cell_type": "code",
   "execution_count": 3,
   "metadata": {
    "execution": {
     "iopub.execute_input": "2021-03-18T11:45:43.908991Z",
     "iopub.status.busy": "2021-03-18T11:45:43.908273Z",
     "iopub.status.idle": "2021-03-18T11:45:47.585798Z",
     "shell.execute_reply": "2021-03-18T11:45:47.586294Z"
    },
    "papermill": {
     "duration": 3.702317,
     "end_time": "2021-03-18T11:45:47.586481",
     "exception": false,
     "start_time": "2021-03-18T11:45:43.884164",
     "status": "completed"
    },
    "tags": []
   },
   "outputs": [],
   "source": [
    "import librosa\n",
    "import torch\n",
    "import IPython.display as display\n",
    "from transformers import Wav2Vec2ForCTC, Wav2Vec2Tokenizer\n",
    "import numpy as np"
   ]
  },
  {
   "cell_type": "markdown",
   "metadata": {
    "papermill": {
     "duration": 0.02019,
     "end_time": "2021-03-18T11:45:47.627683",
     "exception": false,
     "start_time": "2021-03-18T11:45:47.607493",
     "status": "completed"
    },
    "tags": []
   },
   "source": [
    "### Load pre-trained Wav2Vec model"
   ]
  },
  {
   "cell_type": "code",
   "execution_count": 4,
   "metadata": {
    "execution": {
     "iopub.execute_input": "2021-03-18T11:45:47.673586Z",
     "iopub.status.busy": "2021-03-18T11:45:47.672947Z",
     "iopub.status.idle": "2021-03-18T11:46:02.499197Z",
     "shell.execute_reply": "2021-03-18T11:46:02.499882Z"
    },
    "papermill": {
     "duration": 14.851135,
     "end_time": "2021-03-18T11:46:02.500151",
     "exception": false,
     "start_time": "2021-03-18T11:45:47.649016",
     "status": "completed"
    },
    "tags": []
   },
   "outputs": [
    {
     "data": {
      "application/vnd.jupyter.widget-view+json": {
       "model_id": "b00b28acbb3f419eb5d17690dfbfbec0",
       "version_major": 2,
       "version_minor": 0
      },
      "text/plain": [
       "Downloading:   0%|          | 0.00/291 [00:00<?, ?B/s]"
      ]
     },
     "metadata": {},
     "output_type": "display_data"
    },
    {
     "data": {
      "application/vnd.jupyter.widget-view+json": {
       "model_id": "d04ccb9dca07462f97481153a5e5024a",
       "version_major": 2,
       "version_minor": 0
      },
      "text/plain": [
       "Downloading:   0%|          | 0.00/163 [00:00<?, ?B/s]"
      ]
     },
     "metadata": {},
     "output_type": "display_data"
    },
    {
     "data": {
      "application/vnd.jupyter.widget-view+json": {
       "model_id": "85adf2da6c6a41f0997cbaf8b79691cd",
       "version_major": 2,
       "version_minor": 0
      },
      "text/plain": [
       "Downloading:   0%|          | 0.00/85.0 [00:00<?, ?B/s]"
      ]
     },
     "metadata": {},
     "output_type": "display_data"
    },
    {
     "name": "stderr",
     "output_type": "stream",
     "text": [
      "/opt/conda/lib/python3.7/site-packages/transformers/models/wav2vec2/tokenization_wav2vec2.py:358: FutureWarning: The class `Wav2Vec2Tokenizer` is deprecated and will be removed in version 5 of Transformers. Please use `Wav2Vec2Processor` or `Wav2Vec2CTCTokenizer` instead.\n",
      "  FutureWarning,\n"
     ]
    },
    {
     "data": {
      "application/vnd.jupyter.widget-view+json": {
       "model_id": "e9addfe6074d4cfda46af3afe207d907",
       "version_major": 2,
       "version_minor": 0
      },
      "text/plain": [
       "Downloading:   0%|          | 0.00/843 [00:00<?, ?B/s]"
      ]
     },
     "metadata": {},
     "output_type": "display_data"
    },
    {
     "data": {
      "application/vnd.jupyter.widget-view+json": {
       "model_id": "4749f6bdb36947e4b66c5e9d5abd7b5e",
       "version_major": 2,
       "version_minor": 0
      },
      "text/plain": [
       "Downloading:   0%|          | 0.00/378M [00:00<?, ?B/s]"
      ]
     },
     "metadata": {},
     "output_type": "display_data"
    },
    {
     "name": "stderr",
     "output_type": "stream",
     "text": [
      "Some weights of Wav2Vec2ForCTC were not initialized from the model checkpoint at facebook/wav2vec2-base-960h and are newly initialized: ['wav2vec2.masked_spec_embed']\n",
      "You should probably TRAIN this model on a down-stream task to be able to use it for predictions and inference.\n"
     ]
    }
   ],
   "source": [
    "#load pre-trained model and tokenizer\n",
    "tokenizer = Wav2Vec2Tokenizer.from_pretrained(\"facebook/wav2vec2-base-960h\")\n",
    "model = Wav2Vec2ForCTC.from_pretrained(\"facebook/wav2vec2-base-960h\")"
   ]
  },
  {
   "cell_type": "markdown",
   "metadata": {
    "papermill": {
     "duration": 0.023107,
     "end_time": "2021-03-18T11:46:02.548861",
     "exception": false,
     "start_time": "2021-03-18T11:46:02.525754",
     "status": "completed"
    },
    "tags": []
   },
   "source": [
    "### Load Audio file"
   ]
  },
  {
   "cell_type": "code",
   "execution_count": 5,
   "metadata": {
    "execution": {
     "iopub.execute_input": "2021-03-18T11:46:02.599777Z",
     "iopub.status.busy": "2021-03-18T11:46:02.598978Z",
     "iopub.status.idle": "2021-03-18T11:46:03.935293Z",
     "shell.execute_reply": "2021-03-18T11:46:03.935775Z"
    },
    "papermill": {
     "duration": 1.364055,
     "end_time": "2021-03-18T11:46:03.935959",
     "exception": false,
     "start_time": "2021-03-18T11:46:02.571904",
     "status": "completed"
    },
    "tags": []
   },
   "outputs": [
    {
     "name": "stderr",
     "output_type": "stream",
     "text": [
      "/opt/conda/lib/python3.7/site-packages/librosa/core/audio.py:162: UserWarning: PySoundFile failed. Trying audioread instead.\n",
      "  warnings.warn(\"PySoundFile failed. Trying audioread instead.\")\n"
     ]
    }
   ],
   "source": [
    "#load audio file \n",
    "audio, sampling_rate = librosa.load(\"../input/audio-dataset/Voice 002.m4a\",sr=16000)"
   ]
  },
  {
   "cell_type": "code",
   "execution_count": 6,
   "metadata": {
    "execution": {
     "iopub.execute_input": "2021-03-18T11:46:03.991270Z",
     "iopub.status.busy": "2021-03-18T11:46:03.990572Z",
     "iopub.status.idle": "2021-03-18T11:46:03.993230Z",
     "shell.execute_reply": "2021-03-18T11:46:03.993713Z"
    },
    "papermill": {
     "duration": 0.034448,
     "end_time": "2021-03-18T11:46:03.993877",
     "exception": false,
     "start_time": "2021-03-18T11:46:03.959429",
     "status": "completed"
    },
    "tags": []
   },
   "outputs": [
    {
     "data": {
      "text/plain": [
       "(array([0.        , 0.        , 0.        , ..., 0.00085527, 0.00068164,\n",
       "        0.        ], dtype=float32),\n",
       " 16000)"
      ]
     },
     "execution_count": 6,
     "metadata": {},
     "output_type": "execute_result"
    }
   ],
   "source": [
    "audio,sampling_rate"
   ]
  },
  {
   "cell_type": "markdown",
   "metadata": {
    "papermill": {
     "duration": 0.023785,
     "end_time": "2021-03-18T11:46:04.043056",
     "exception": false,
     "start_time": "2021-03-18T11:46:04.019271",
     "status": "completed"
    },
    "tags": []
   },
   "source": [
    "# Play the Audio"
   ]
  },
  {
   "cell_type": "code",
   "execution_count": 7,
   "metadata": {
    "execution": {
     "iopub.execute_input": "2021-03-18T11:46:04.094911Z",
     "iopub.status.busy": "2021-03-18T11:46:04.094301Z",
     "iopub.status.idle": "2021-03-18T11:46:04.109902Z",
     "shell.execute_reply": "2021-03-18T11:46:04.110425Z"
    },
    "papermill": {
     "duration": 0.043067,
     "end_time": "2021-03-18T11:46:04.110607",
     "exception": false,
     "start_time": "2021-03-18T11:46:04.067540",
     "status": "completed"
    },
    "tags": []
   },
   "outputs": [
    {
     "data": {
      "text/html": [
       "\n",
       "                <audio  controls=\"controls\" autoplay=\"autoplay\">\n",
       "                    <source src=\"data:audio/mpeg;base64,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\" type=\"audio/mpeg\" />\n",
       "                    Your browser does not support the audio element.\n",
       "                </audio>\n",
       "              "
      ],
      "text/plain": [
       "<IPython.lib.display.Audio object>"
      ]
     },
     "execution_count": 7,
     "metadata": {},
     "output_type": "execute_result"
    }
   ],
   "source": [
    "# audio\n",
    "display.Audio(\"../input/audio-dataset/Voice 002.m4a\", autoplay=True)"
   ]
  },
  {
   "cell_type": "markdown",
   "metadata": {
    "papermill": {
     "duration": 0.026442,
     "end_time": "2021-03-18T11:46:04.164313",
     "exception": false,
     "start_time": "2021-03-18T11:46:04.137871",
     "status": "completed"
    },
    "tags": []
   },
   "source": [
    "### Speech to Text"
   ]
  },
  {
   "cell_type": "markdown",
   "metadata": {
    "papermill": {
     "duration": 0.027164,
     "end_time": "2021-03-18T11:46:04.218527",
     "exception": false,
     "start_time": "2021-03-18T11:46:04.191363",
     "status": "completed"
    },
    "tags": []
   },
   "source": [
    "First of all tokenize the input values,take the maximum prediction from the logit and then extraxt the text"
   ]
  },
  {
   "cell_type": "code",
   "execution_count": 8,
   "metadata": {
    "execution": {
     "iopub.execute_input": "2021-03-18T11:46:04.277768Z",
     "iopub.status.busy": "2021-03-18T11:46:04.277011Z",
     "iopub.status.idle": "2021-03-18T11:46:09.735963Z",
     "shell.execute_reply": "2021-03-18T11:46:09.736538Z"
    },
    "papermill": {
     "duration": 5.491071,
     "end_time": "2021-03-18T11:46:09.736711",
     "exception": false,
     "start_time": "2021-03-18T11:46:04.245640",
     "status": "completed"
    },
    "tags": []
   },
   "outputs": [
    {
     "data": {
      "text/plain": [
       "tensor([[-4.1209e-05, -4.1209e-05, -4.1209e-05,  ...,  2.6336e-02,\n",
       "          2.0981e-02, -4.1209e-05]])"
      ]
     },
     "execution_count": 8,
     "metadata": {},
     "output_type": "execute_result"
    }
   ],
   "source": [
    "input_values = tokenizer(audio, return_tensors = 'pt').input_values\n",
    "input_values"
   ]
  },
  {
   "cell_type": "code",
   "execution_count": 9,
   "metadata": {
    "execution": {
     "iopub.execute_input": "2021-03-18T11:46:09.798634Z",
     "iopub.status.busy": "2021-03-18T11:46:09.797626Z",
     "iopub.status.idle": "2021-03-18T11:46:10.799053Z",
     "shell.execute_reply": "2021-03-18T11:46:10.798548Z"
    },
    "papermill": {
     "duration": 1.032989,
     "end_time": "2021-03-18T11:46:10.799197",
     "exception": false,
     "start_time": "2021-03-18T11:46:09.766208",
     "status": "completed"
    },
    "tags": []
   },
   "outputs": [
    {
     "data": {
      "text/plain": [
       "tensor([[[ 11.9173, -26.7431, -26.4653,  ...,  -6.2810,  -6.3824,  -7.3416],\n",
       "         [ 11.9257, -26.7902, -26.5125,  ...,  -6.2941,  -6.3788,  -7.3500],\n",
       "         [ 11.9959, -26.8095, -26.5268,  ...,  -6.2574,  -6.3953,  -7.3421],\n",
       "         ...,\n",
       "         [ 12.2501, -26.4285, -26.1227,  ...,  -6.1991,  -6.4601,  -7.0932],\n",
       "         [ 12.1604, -26.3363, -26.0326,  ...,  -6.2217,  -6.5658,  -7.1099],\n",
       "         [ 12.0844, -26.2884, -25.9919,  ...,  -6.2779,  -6.6117,  -7.1327]]],\n",
       "       grad_fn=<AddBackward0>)"
      ]
     },
     "execution_count": 9,
     "metadata": {},
     "output_type": "execute_result"
    }
   ],
   "source": [
    "# store logits (non-normalized predictions)\n",
    "logits = model(input_values).logits\n",
    "logits"
   ]
  },
  {
   "cell_type": "code",
   "execution_count": 10,
   "metadata": {
    "execution": {
     "iopub.execute_input": "2021-03-18T11:46:10.860239Z",
     "iopub.status.busy": "2021-03-18T11:46:10.859581Z",
     "iopub.status.idle": "2021-03-18T11:46:10.862213Z",
     "shell.execute_reply": "2021-03-18T11:46:10.862704Z"
    },
    "papermill": {
     "duration": 0.036061,
     "end_time": "2021-03-18T11:46:10.862867",
     "exception": false,
     "start_time": "2021-03-18T11:46:10.826806",
     "status": "completed"
    },
    "tags": []
   },
   "outputs": [],
   "source": [
    "# store predicted id's\n",
    "# pass the logit values to softmax to get the predicted values\n",
    "predicted_ids = torch.argmax(logits, dim =-1)"
   ]
  },
  {
   "cell_type": "code",
   "execution_count": 11,
   "metadata": {
    "execution": {
     "iopub.execute_input": "2021-03-18T11:46:10.922337Z",
     "iopub.status.busy": "2021-03-18T11:46:10.921712Z",
     "iopub.status.idle": "2021-03-18T11:46:10.927371Z",
     "shell.execute_reply": "2021-03-18T11:46:10.927889Z"
    },
    "papermill": {
     "duration": 0.037139,
     "end_time": "2021-03-18T11:46:10.928075",
     "exception": false,
     "start_time": "2021-03-18T11:46:10.890936",
     "status": "completed"
    },
    "tags": []
   },
   "outputs": [],
   "source": [
    "# pass the prediction to the tokenzer decode to get the transcription\n",
    "transcriptions = tokenizer.decode(predicted_ids[0])"
   ]
  },
  {
   "cell_type": "code",
   "execution_count": 12,
   "metadata": {
    "execution": {
     "iopub.execute_input": "2021-03-18T11:46:10.986920Z",
     "iopub.status.busy": "2021-03-18T11:46:10.986322Z",
     "iopub.status.idle": "2021-03-18T11:46:10.990911Z",
     "shell.execute_reply": "2021-03-18T11:46:10.991457Z"
    },
    "papermill": {
     "duration": 0.035728,
     "end_time": "2021-03-18T11:46:10.991622",
     "exception": false,
     "start_time": "2021-03-18T11:46:10.955894",
     "status": "completed"
    },
    "tags": []
   },
   "outputs": [
    {
     "data": {
      "text/plain": [
       "'DO WHATEVER YOU WANT TO DO'"
      ]
     },
     "execution_count": 12,
     "metadata": {},
     "output_type": "execute_result"
    }
   ],
   "source": [
    "transcriptions"
   ]
  }
 ],
 "metadata": {
  "kernelspec": {
   "display_name": "Python 3",
   "language": "python",
   "name": "python3"
  },
  "language_info": {
   "codemirror_mode": {
    "name": "ipython",
    "version": 3
   },
   "file_extension": ".py",
   "mimetype": "text/x-python",
   "name": "python",
   "nbconvert_exporter": "python",
   "pygments_lexer": "ipython3",
   "version": "3.7.9"
  },
  "papermill": {
   "default_parameters": {},
   "duration": 47.421463,
   "end_time": "2021-03-18T11:46:12.538756",
   "environment_variables": {},
   "exception": null,
   "input_path": "__notebook__.ipynb",
   "output_path": "__notebook__.ipynb",
   "parameters": {},
   "start_time": "2021-03-18T11:45:25.117293",
   "version": "2.2.2"
  },
  "widgets": {
   "application/vnd.jupyter.widget-state+json": {
    "state": {
     "027ce5bcc237412ba16c893cf31c28ba": {
      "model_module": "@jupyter-widgets/controls",
      "model_module_version": "1.5.0",
      "model_name": "FloatProgressModel",
      "state": {
       "_dom_classes": [],
       "_model_module": "@jupyter-widgets/controls",
       "_model_module_version": "1.5.0",
       "_model_name": "FloatProgressModel",
       "_view_count": null,
       "_view_module": "@jupyter-widgets/controls",
       "_view_module_version": "1.5.0",
       "_view_name": "ProgressView",
       "bar_style": "success",
       "description": "",
       "description_tooltip": null,
       "layout": "IPY_MODEL_ff81b5c511b94186824536505c9636bd",
       "max": 377667514.0,
       "min": 0.0,
       "orientation": "horizontal",
       "style": "IPY_MODEL_446bc8a5a94b456aada5c5b0983b9c83",
       "value": 377667514.0
      }
     },
     "07fff705a64c465694eedd09dd037e38": {
      "model_module": "@jupyter-widgets/controls",
      "model_module_version": "1.5.0",
      "model_name": "HTMLModel",
      "state": {
       "_dom_classes": [],
       "_model_module": "@jupyter-widgets/controls",
       "_model_module_version": "1.5.0",
       "_model_name": "HTMLModel",
       "_view_count": null,
       "_view_module": "@jupyter-widgets/controls",
       "_view_module_version": "1.5.0",
       "_view_name": "HTMLView",
       "description": "",
       "description_tooltip": null,
       "layout": "IPY_MODEL_7d9c662fde0440e894afac57065a92a3",
       "placeholder": "​",
       "style": "IPY_MODEL_faded74a47114fb790e1bb999406db8d",
       "value": "Downloading: 100%"
      }
     },
     "16e9e27b4c2a46a485a3b504372c4e5b": {
      "model_module": "@jupyter-widgets/controls",
      "model_module_version": "1.5.0",
      "model_name": "DescriptionStyleModel",
      "state": {
       "_model_module": "@jupyter-widgets/controls",
       "_model_module_version": "1.5.0",
       "_model_name": "DescriptionStyleModel",
       "_view_count": null,
       "_view_module": "@jupyter-widgets/base",
       "_view_module_version": "1.2.0",
       "_view_name": "StyleView",
       "description_width": ""
      }
     },
     "1dcde947f19b4ac2bbe675b1681b4107": {
      "model_module": "@jupyter-widgets/base",
      "model_module_version": "1.2.0",
      "model_name": "LayoutModel",
      "state": {
       "_model_module": "@jupyter-widgets/base",
       "_model_module_version": "1.2.0",
       "_model_name": "LayoutModel",
       "_view_count": null,
       "_view_module": "@jupyter-widgets/base",
       "_view_module_version": "1.2.0",
       "_view_name": "LayoutView",
       "align_content": null,
       "align_items": null,
       "align_self": null,
       "border": null,
       "bottom": null,
       "display": null,
       "flex": null,
       "flex_flow": null,
       "grid_area": null,
       "grid_auto_columns": null,
       "grid_auto_flow": null,
       "grid_auto_rows": null,
       "grid_column": null,
       "grid_gap": null,
       "grid_row": null,
       "grid_template_areas": null,
       "grid_template_columns": null,
       "grid_template_rows": null,
       "height": null,
       "justify_content": null,
       "justify_items": null,
       "left": null,
       "margin": null,
       "max_height": null,
       "max_width": null,
       "min_height": null,
       "min_width": null,
       "object_fit": null,
       "object_position": null,
       "order": null,
       "overflow": null,
       "overflow_x": null,
       "overflow_y": null,
       "padding": null,
       "right": null,
       "top": null,
       "visibility": null,
       "width": null
      }
     },
     "1f743a2838174b11aa4df17a93adf216": {
      "model_module": "@jupyter-widgets/controls",
      "model_module_version": "1.5.0",
      "model_name": "FloatProgressModel",
      "state": {
       "_dom_classes": [],
       "_model_module": "@jupyter-widgets/controls",
       "_model_module_version": "1.5.0",
       "_model_name": "FloatProgressModel",
       "_view_count": null,
       "_view_module": "@jupyter-widgets/controls",
       "_view_module_version": "1.5.0",
       "_view_name": "ProgressView",
       "bar_style": "success",
       "description": "",
       "description_tooltip": null,
       "layout": "IPY_MODEL_e1c7febc8a36482a85f214fe7f61f05c",
       "max": 843.0,
       "min": 0.0,
       "orientation": "horizontal",
       "style": "IPY_MODEL_433925fa990646ac9753de336bdbc544",
       "value": 843.0
      }
     },
     "433925fa990646ac9753de336bdbc544": {
      "model_module": "@jupyter-widgets/controls",
      "model_module_version": "1.5.0",
      "model_name": "ProgressStyleModel",
      "state": {
       "_model_module": "@jupyter-widgets/controls",
       "_model_module_version": "1.5.0",
       "_model_name": "ProgressStyleModel",
       "_view_count": null,
       "_view_module": "@jupyter-widgets/base",
       "_view_module_version": "1.2.0",
       "_view_name": "StyleView",
       "bar_color": null,
       "description_width": ""
      }
     },
     "446bc8a5a94b456aada5c5b0983b9c83": {
      "model_module": "@jupyter-widgets/controls",
      "model_module_version": "1.5.0",
      "model_name": "ProgressStyleModel",
      "state": {
       "_model_module": "@jupyter-widgets/controls",
       "_model_module_version": "1.5.0",
       "_model_name": "ProgressStyleModel",
       "_view_count": null,
       "_view_module": "@jupyter-widgets/base",
       "_view_module_version": "1.2.0",
       "_view_name": "StyleView",
       "bar_color": null,
       "description_width": ""
      }
     },
     "466d42f5ebd74c38b2f30a85d1edd4be": {
      "model_module": "@jupyter-widgets/controls",
      "model_module_version": "1.5.0",
      "model_name": "HTMLModel",
      "state": {
       "_dom_classes": [],
       "_model_module": "@jupyter-widgets/controls",
       "_model_module_version": "1.5.0",
       "_model_name": "HTMLModel",
       "_view_count": null,
       "_view_module": "@jupyter-widgets/controls",
       "_view_module_version": "1.5.0",
       "_view_name": "HTMLView",
       "description": "",
       "description_tooltip": null,
       "layout": "IPY_MODEL_cc86b825b77f419d998b1b3ab6e53f12",
       "placeholder": "​",
       "style": "IPY_MODEL_bafa9b0da72e4993b3f96865e0ca3451",
       "value": "Downloading: 100%"
      }
     },
     "4749f6bdb36947e4b66c5e9d5abd7b5e": {
      "model_module": "@jupyter-widgets/controls",
      "model_module_version": "1.5.0",
      "model_name": "HBoxModel",
      "state": {
       "_dom_classes": [],
       "_model_module": "@jupyter-widgets/controls",
       "_model_module_version": "1.5.0",
       "_model_name": "HBoxModel",
       "_view_count": null,
       "_view_module": "@jupyter-widgets/controls",
       "_view_module_version": "1.5.0",
       "_view_name": "HBoxView",
       "box_style": "",
       "children": [
        "IPY_MODEL_7051b2132dab4dda8b9083e5441d662a",
        "IPY_MODEL_027ce5bcc237412ba16c893cf31c28ba",
        "IPY_MODEL_ce5fa9b60a4b406285c860543ae1e3a8"
       ],
       "layout": "IPY_MODEL_81fc1d13103f47d081a656f380891ccb"
      }
     },
     "4a0075e0639e4cdbb331b5e048d379d0": {
      "model_module": "@jupyter-widgets/controls",
      "model_module_version": "1.5.0",
      "model_name": "DescriptionStyleModel",
      "state": {
       "_model_module": "@jupyter-widgets/controls",
       "_model_module_version": "1.5.0",
       "_model_name": "DescriptionStyleModel",
       "_view_count": null,
       "_view_module": "@jupyter-widgets/base",
       "_view_module_version": "1.2.0",
       "_view_name": "StyleView",
       "description_width": ""
      }
     },
     "51ea7be2b41d4ad9a1acf0ac3e507580": {
      "model_module": "@jupyter-widgets/base",
      "model_module_version": "1.2.0",
      "model_name": "LayoutModel",
      "state": {
       "_model_module": "@jupyter-widgets/base",
       "_model_module_version": "1.2.0",
       "_model_name": "LayoutModel",
       "_view_count": null,
       "_view_module": "@jupyter-widgets/base",
       "_view_module_version": "1.2.0",
       "_view_name": "LayoutView",
       "align_content": null,
       "align_items": null,
       "align_self": null,
       "border": null,
       "bottom": null,
       "display": null,
       "flex": null,
       "flex_flow": null,
       "grid_area": null,
       "grid_auto_columns": null,
       "grid_auto_flow": null,
       "grid_auto_rows": null,
       "grid_column": null,
       "grid_gap": null,
       "grid_row": null,
       "grid_template_areas": null,
       "grid_template_columns": null,
       "grid_template_rows": null,
       "height": null,
       "justify_content": null,
       "justify_items": null,
       "left": null,
       "margin": null,
       "max_height": null,
       "max_width": null,
       "min_height": null,
       "min_width": null,
       "object_fit": null,
       "object_position": null,
       "order": null,
       "overflow": null,
       "overflow_x": null,
       "overflow_y": null,
       "padding": null,
       "right": null,
       "top": null,
       "visibility": null,
       "width": null
      }
     },
     "62bf92d6549e4f6baae8137ca0cacbb7": {
      "model_module": "@jupyter-widgets/base",
      "model_module_version": "1.2.0",
      "model_name": "LayoutModel",
      "state": {
       "_model_module": "@jupyter-widgets/base",
       "_model_module_version": "1.2.0",
       "_model_name": "LayoutModel",
       "_view_count": null,
       "_view_module": "@jupyter-widgets/base",
       "_view_module_version": "1.2.0",
       "_view_name": "LayoutView",
       "align_content": null,
       "align_items": null,
       "align_self": null,
       "border": null,
       "bottom": null,
       "display": null,
       "flex": null,
       "flex_flow": null,
       "grid_area": null,
       "grid_auto_columns": null,
       "grid_auto_flow": null,
       "grid_auto_rows": null,
       "grid_column": null,
       "grid_gap": null,
       "grid_row": null,
       "grid_template_areas": null,
       "grid_template_columns": null,
       "grid_template_rows": null,
       "height": null,
       "justify_content": null,
       "justify_items": null,
       "left": null,
       "margin": null,
       "max_height": null,
       "max_width": null,
       "min_height": null,
       "min_width": null,
       "object_fit": null,
       "object_position": null,
       "order": null,
       "overflow": null,
       "overflow_x": null,
       "overflow_y": null,
       "padding": null,
       "right": null,
       "top": null,
       "visibility": null,
       "width": null
      }
     },
     "6471ab2d7f3e43a3bcf37a4d7a014ca7": {
      "model_module": "@jupyter-widgets/controls",
      "model_module_version": "1.5.0",
      "model_name": "DescriptionStyleModel",
      "state": {
       "_model_module": "@jupyter-widgets/controls",
       "_model_module_version": "1.5.0",
       "_model_name": "DescriptionStyleModel",
       "_view_count": null,
       "_view_module": "@jupyter-widgets/base",
       "_view_module_version": "1.2.0",
       "_view_name": "StyleView",
       "description_width": ""
      }
     },
     "6b68def996a046e8a2fb900c4243a45a": {
      "model_module": "@jupyter-widgets/controls",
      "model_module_version": "1.5.0",
      "model_name": "FloatProgressModel",
      "state": {
       "_dom_classes": [],
       "_model_module": "@jupyter-widgets/controls",
       "_model_module_version": "1.5.0",
       "_model_name": "FloatProgressModel",
       "_view_count": null,
       "_view_module": "@jupyter-widgets/controls",
       "_view_module_version": "1.5.0",
       "_view_name": "ProgressView",
       "bar_style": "success",
       "description": "",
       "description_tooltip": null,
       "layout": "IPY_MODEL_fa3b52eacb5643a6ba0925e46aa4d06d",
       "max": 85.0,
       "min": 0.0,
       "orientation": "horizontal",
       "style": "IPY_MODEL_bc7b507794824c78b22b53a44a048e1e",
       "value": 85.0
      }
     },
     "7051b2132dab4dda8b9083e5441d662a": {
      "model_module": "@jupyter-widgets/controls",
      "model_module_version": "1.5.0",
      "model_name": "HTMLModel",
      "state": {
       "_dom_classes": [],
       "_model_module": "@jupyter-widgets/controls",
       "_model_module_version": "1.5.0",
       "_model_name": "HTMLModel",
       "_view_count": null,
       "_view_module": "@jupyter-widgets/controls",
       "_view_module_version": "1.5.0",
       "_view_name": "HTMLView",
       "description": "",
       "description_tooltip": null,
       "layout": "IPY_MODEL_fc0f45c30fa64b43a1c70eeb8abb6638",
       "placeholder": "​",
       "style": "IPY_MODEL_6471ab2d7f3e43a3bcf37a4d7a014ca7",
       "value": "Downloading: 100%"
      }
     },
     "7694aa9fa6f74261b96e29e829975b09": {
      "model_module": "@jupyter-widgets/controls",
      "model_module_version": "1.5.0",
      "model_name": "DescriptionStyleModel",
      "state": {
       "_model_module": "@jupyter-widgets/controls",
       "_model_module_version": "1.5.0",
       "_model_name": "DescriptionStyleModel",
       "_view_count": null,
       "_view_module": "@jupyter-widgets/base",
       "_view_module_version": "1.2.0",
       "_view_name": "StyleView",
       "description_width": ""
      }
     },
     "7a875c15387b460c802f12f34b2a625d": {
      "model_module": "@jupyter-widgets/controls",
      "model_module_version": "1.5.0",
      "model_name": "ProgressStyleModel",
      "state": {
       "_model_module": "@jupyter-widgets/controls",
       "_model_module_version": "1.5.0",
       "_model_name": "ProgressStyleModel",
       "_view_count": null,
       "_view_module": "@jupyter-widgets/base",
       "_view_module_version": "1.2.0",
       "_view_name": "StyleView",
       "bar_color": null,
       "description_width": ""
      }
     },
     "7d9c662fde0440e894afac57065a92a3": {
      "model_module": "@jupyter-widgets/base",
      "model_module_version": "1.2.0",
      "model_name": "LayoutModel",
      "state": {
       "_model_module": "@jupyter-widgets/base",
       "_model_module_version": "1.2.0",
       "_model_name": "LayoutModel",
       "_view_count": null,
       "_view_module": "@jupyter-widgets/base",
       "_view_module_version": "1.2.0",
       "_view_name": "LayoutView",
       "align_content": null,
       "align_items": null,
       "align_self": null,
       "border": null,
       "bottom": null,
       "display": null,
       "flex": null,
       "flex_flow": null,
       "grid_area": null,
       "grid_auto_columns": null,
       "grid_auto_flow": null,
       "grid_auto_rows": null,
       "grid_column": null,
       "grid_gap": null,
       "grid_row": null,
       "grid_template_areas": null,
       "grid_template_columns": null,
       "grid_template_rows": null,
       "height": null,
       "justify_content": null,
       "justify_items": null,
       "left": null,
       "margin": null,
       "max_height": null,
       "max_width": null,
       "min_height": null,
       "min_width": null,
       "object_fit": null,
       "object_position": null,
       "order": null,
       "overflow": null,
       "overflow_x": null,
       "overflow_y": null,
       "padding": null,
       "right": null,
       "top": null,
       "visibility": null,
       "width": null
      }
     },
     "7e12e4de184343ec80e64c062eee3f0c": {
      "model_module": "@jupyter-widgets/base",
      "model_module_version": "1.2.0",
      "model_name": "LayoutModel",
      "state": {
       "_model_module": "@jupyter-widgets/base",
       "_model_module_version": "1.2.0",
       "_model_name": "LayoutModel",
       "_view_count": null,
       "_view_module": "@jupyter-widgets/base",
       "_view_module_version": "1.2.0",
       "_view_name": "LayoutView",
       "align_content": null,
       "align_items": null,
       "align_self": null,
       "border": null,
       "bottom": null,
       "display": null,
       "flex": null,
       "flex_flow": null,
       "grid_area": null,
       "grid_auto_columns": null,
       "grid_auto_flow": null,
       "grid_auto_rows": null,
       "grid_column": null,
       "grid_gap": null,
       "grid_row": null,
       "grid_template_areas": null,
       "grid_template_columns": null,
       "grid_template_rows": null,
       "height": null,
       "justify_content": null,
       "justify_items": null,
       "left": null,
       "margin": null,
       "max_height": null,
       "max_width": null,
       "min_height": null,
       "min_width": null,
       "object_fit": null,
       "object_position": null,
       "order": null,
       "overflow": null,
       "overflow_x": null,
       "overflow_y": null,
       "padding": null,
       "right": null,
       "top": null,
       "visibility": null,
       "width": null
      }
     },
     "7e6e97be495f4969800ba7e959760bbc": {
      "model_module": "@jupyter-widgets/controls",
      "model_module_version": "1.5.0",
      "model_name": "HTMLModel",
      "state": {
       "_dom_classes": [],
       "_model_module": "@jupyter-widgets/controls",
       "_model_module_version": "1.5.0",
       "_model_name": "HTMLModel",
       "_view_count": null,
       "_view_module": "@jupyter-widgets/controls",
       "_view_module_version": "1.5.0",
       "_view_name": "HTMLView",
       "description": "",
       "description_tooltip": null,
       "layout": "IPY_MODEL_f82629110f92452fb4edf5954ac06bed",
       "placeholder": "​",
       "style": "IPY_MODEL_16e9e27b4c2a46a485a3b504372c4e5b",
       "value": "Downloading: 100%"
      }
     },
     "7f7650421db2431c83bc26114c79b2d3": {
      "model_module": "@jupyter-widgets/controls",
      "model_module_version": "1.5.0",
      "model_name": "DescriptionStyleModel",
      "state": {
       "_model_module": "@jupyter-widgets/controls",
       "_model_module_version": "1.5.0",
       "_model_name": "DescriptionStyleModel",
       "_view_count": null,
       "_view_module": "@jupyter-widgets/base",
       "_view_module_version": "1.2.0",
       "_view_name": "StyleView",
       "description_width": ""
      }
     },
     "81fc1d13103f47d081a656f380891ccb": {
      "model_module": "@jupyter-widgets/base",
      "model_module_version": "1.2.0",
      "model_name": "LayoutModel",
      "state": {
       "_model_module": "@jupyter-widgets/base",
       "_model_module_version": "1.2.0",
       "_model_name": "LayoutModel",
       "_view_count": null,
       "_view_module": "@jupyter-widgets/base",
       "_view_module_version": "1.2.0",
       "_view_name": "LayoutView",
       "align_content": null,
       "align_items": null,
       "align_self": null,
       "border": null,
       "bottom": null,
       "display": null,
       "flex": null,
       "flex_flow": null,
       "grid_area": null,
       "grid_auto_columns": null,
       "grid_auto_flow": null,
       "grid_auto_rows": null,
       "grid_column": null,
       "grid_gap": null,
       "grid_row": null,
       "grid_template_areas": null,
       "grid_template_columns": null,
       "grid_template_rows": null,
       "height": null,
       "justify_content": null,
       "justify_items": null,
       "left": null,
       "margin": null,
       "max_height": null,
       "max_width": null,
       "min_height": null,
       "min_width": null,
       "object_fit": null,
       "object_position": null,
       "order": null,
       "overflow": null,
       "overflow_x": null,
       "overflow_y": null,
       "padding": null,
       "right": null,
       "top": null,
       "visibility": null,
       "width": null
      }
     },
     "83f9d8f03b734a32b31506142d35b2c7": {
      "model_module": "@jupyter-widgets/controls",
      "model_module_version": "1.5.0",
      "model_name": "DescriptionStyleModel",
      "state": {
       "_model_module": "@jupyter-widgets/controls",
       "_model_module_version": "1.5.0",
       "_model_name": "DescriptionStyleModel",
       "_view_count": null,
       "_view_module": "@jupyter-widgets/base",
       "_view_module_version": "1.2.0",
       "_view_name": "StyleView",
       "description_width": ""
      }
     },
     "85adf2da6c6a41f0997cbaf8b79691cd": {
      "model_module": "@jupyter-widgets/controls",
      "model_module_version": "1.5.0",
      "model_name": "HBoxModel",
      "state": {
       "_dom_classes": [],
       "_model_module": "@jupyter-widgets/controls",
       "_model_module_version": "1.5.0",
       "_model_name": "HBoxModel",
       "_view_count": null,
       "_view_module": "@jupyter-widgets/controls",
       "_view_module_version": "1.5.0",
       "_view_name": "HBoxView",
       "box_style": "",
       "children": [
        "IPY_MODEL_07fff705a64c465694eedd09dd037e38",
        "IPY_MODEL_6b68def996a046e8a2fb900c4243a45a",
        "IPY_MODEL_d00c67eb9a3248b0aedf7e965b45c91a"
       ],
       "layout": "IPY_MODEL_51ea7be2b41d4ad9a1acf0ac3e507580"
      }
     },
     "8dfcf278b3c647e8b7000ae4a04a4f62": {
      "model_module": "@jupyter-widgets/controls",
      "model_module_version": "1.5.0",
      "model_name": "FloatProgressModel",
      "state": {
       "_dom_classes": [],
       "_model_module": "@jupyter-widgets/controls",
       "_model_module_version": "1.5.0",
       "_model_name": "FloatProgressModel",
       "_view_count": null,
       "_view_module": "@jupyter-widgets/controls",
       "_view_module_version": "1.5.0",
       "_view_name": "ProgressView",
       "bar_style": "success",
       "description": "",
       "description_tooltip": null,
       "layout": "IPY_MODEL_f21276ae2d434908b4751509f3a50f0e",
       "max": 291.0,
       "min": 0.0,
       "orientation": "horizontal",
       "style": "IPY_MODEL_7a875c15387b460c802f12f34b2a625d",
       "value": 291.0
      }
     },
     "9937bb4ef3d84a449c6b8fd99d901e54": {
      "model_module": "@jupyter-widgets/controls",
      "model_module_version": "1.5.0",
      "model_name": "DescriptionStyleModel",
      "state": {
       "_model_module": "@jupyter-widgets/controls",
       "_model_module_version": "1.5.0",
       "_model_name": "DescriptionStyleModel",
       "_view_count": null,
       "_view_module": "@jupyter-widgets/base",
       "_view_module_version": "1.2.0",
       "_view_name": "StyleView",
       "description_width": ""
      }
     },
     "a956acb5d5ce43e49c36c0d7d5b8ff5a": {
      "model_module": "@jupyter-widgets/controls",
      "model_module_version": "1.5.0",
      "model_name": "DescriptionStyleModel",
      "state": {
       "_model_module": "@jupyter-widgets/controls",
       "_model_module_version": "1.5.0",
       "_model_name": "DescriptionStyleModel",
       "_view_count": null,
       "_view_module": "@jupyter-widgets/base",
       "_view_module_version": "1.2.0",
       "_view_name": "StyleView",
       "description_width": ""
      }
     },
     "b00b28acbb3f419eb5d17690dfbfbec0": {
      "model_module": "@jupyter-widgets/controls",
      "model_module_version": "1.5.0",
      "model_name": "HBoxModel",
      "state": {
       "_dom_classes": [],
       "_model_module": "@jupyter-widgets/controls",
       "_model_module_version": "1.5.0",
       "_model_name": "HBoxModel",
       "_view_count": null,
       "_view_module": "@jupyter-widgets/controls",
       "_view_module_version": "1.5.0",
       "_view_name": "HBoxView",
       "box_style": "",
       "children": [
        "IPY_MODEL_466d42f5ebd74c38b2f30a85d1edd4be",
        "IPY_MODEL_8dfcf278b3c647e8b7000ae4a04a4f62",
        "IPY_MODEL_f76a48fd76f442b8bc0dbd2ad9369a3f"
       ],
       "layout": "IPY_MODEL_cf76b3f1bf894bdcb9a4e14c98c8c3ac"
      }
     },
     "b0c83a27ddde4aa9b588812705945133": {
      "model_module": "@jupyter-widgets/controls",
      "model_module_version": "1.5.0",
      "model_name": "HTMLModel",
      "state": {
       "_dom_classes": [],
       "_model_module": "@jupyter-widgets/controls",
       "_model_module_version": "1.5.0",
       "_model_name": "HTMLModel",
       "_view_count": null,
       "_view_module": "@jupyter-widgets/controls",
       "_view_module_version": "1.5.0",
       "_view_name": "HTMLView",
       "description": "",
       "description_tooltip": null,
       "layout": "IPY_MODEL_e859e90fd14748eaac38b075df33100f",
       "placeholder": "​",
       "style": "IPY_MODEL_9937bb4ef3d84a449c6b8fd99d901e54",
       "value": " 843/843 [00:00&lt;00:00, 26.0kB/s]"
      }
     },
     "bafa9b0da72e4993b3f96865e0ca3451": {
      "model_module": "@jupyter-widgets/controls",
      "model_module_version": "1.5.0",
      "model_name": "DescriptionStyleModel",
      "state": {
       "_model_module": "@jupyter-widgets/controls",
       "_model_module_version": "1.5.0",
       "_model_name": "DescriptionStyleModel",
       "_view_count": null,
       "_view_module": "@jupyter-widgets/base",
       "_view_module_version": "1.2.0",
       "_view_name": "StyleView",
       "description_width": ""
      }
     },
     "bc7b507794824c78b22b53a44a048e1e": {
      "model_module": "@jupyter-widgets/controls",
      "model_module_version": "1.5.0",
      "model_name": "ProgressStyleModel",
      "state": {
       "_model_module": "@jupyter-widgets/controls",
       "_model_module_version": "1.5.0",
       "_model_name": "ProgressStyleModel",
       "_view_count": null,
       "_view_module": "@jupyter-widgets/base",
       "_view_module_version": "1.2.0",
       "_view_name": "StyleView",
       "bar_color": null,
       "description_width": ""
      }
     },
     "bcd8079747af4c2d9964d0b5ca4c2efe": {
      "model_module": "@jupyter-widgets/controls",
      "model_module_version": "1.5.0",
      "model_name": "HTMLModel",
      "state": {
       "_dom_classes": [],
       "_model_module": "@jupyter-widgets/controls",
       "_model_module_version": "1.5.0",
       "_model_name": "HTMLModel",
       "_view_count": null,
       "_view_module": "@jupyter-widgets/controls",
       "_view_module_version": "1.5.0",
       "_view_name": "HTMLView",
       "description": "",
       "description_tooltip": null,
       "layout": "IPY_MODEL_e867bd52f8a74bb4a5ff5aad661300d6",
       "placeholder": "​",
       "style": "IPY_MODEL_83f9d8f03b734a32b31506142d35b2c7",
       "value": " 163/163 [00:00&lt;00:00, 5.17kB/s]"
      }
     },
     "c82ee9e21f09427b93ae8cb4cdfbc41a": {
      "model_module": "@jupyter-widgets/controls",
      "model_module_version": "1.5.0",
      "model_name": "ProgressStyleModel",
      "state": {
       "_model_module": "@jupyter-widgets/controls",
       "_model_module_version": "1.5.0",
       "_model_name": "ProgressStyleModel",
       "_view_count": null,
       "_view_module": "@jupyter-widgets/base",
       "_view_module_version": "1.2.0",
       "_view_name": "StyleView",
       "bar_color": null,
       "description_width": ""
      }
     },
     "c9fe037914b647d2b65822b00d6b11e7": {
      "model_module": "@jupyter-widgets/base",
      "model_module_version": "1.2.0",
      "model_name": "LayoutModel",
      "state": {
       "_model_module": "@jupyter-widgets/base",
       "_model_module_version": "1.2.0",
       "_model_name": "LayoutModel",
       "_view_count": null,
       "_view_module": "@jupyter-widgets/base",
       "_view_module_version": "1.2.0",
       "_view_name": "LayoutView",
       "align_content": null,
       "align_items": null,
       "align_self": null,
       "border": null,
       "bottom": null,
       "display": null,
       "flex": null,
       "flex_flow": null,
       "grid_area": null,
       "grid_auto_columns": null,
       "grid_auto_flow": null,
       "grid_auto_rows": null,
       "grid_column": null,
       "grid_gap": null,
       "grid_row": null,
       "grid_template_areas": null,
       "grid_template_columns": null,
       "grid_template_rows": null,
       "height": null,
       "justify_content": null,
       "justify_items": null,
       "left": null,
       "margin": null,
       "max_height": null,
       "max_width": null,
       "min_height": null,
       "min_width": null,
       "object_fit": null,
       "object_position": null,
       "order": null,
       "overflow": null,
       "overflow_x": null,
       "overflow_y": null,
       "padding": null,
       "right": null,
       "top": null,
       "visibility": null,
       "width": null
      }
     },
     "cb2a27b66ca843a7bfd586b0f2cbe290": {
      "model_module": "@jupyter-widgets/base",
      "model_module_version": "1.2.0",
      "model_name": "LayoutModel",
      "state": {
       "_model_module": "@jupyter-widgets/base",
       "_model_module_version": "1.2.0",
       "_model_name": "LayoutModel",
       "_view_count": null,
       "_view_module": "@jupyter-widgets/base",
       "_view_module_version": "1.2.0",
       "_view_name": "LayoutView",
       "align_content": null,
       "align_items": null,
       "align_self": null,
       "border": null,
       "bottom": null,
       "display": null,
       "flex": null,
       "flex_flow": null,
       "grid_area": null,
       "grid_auto_columns": null,
       "grid_auto_flow": null,
       "grid_auto_rows": null,
       "grid_column": null,
       "grid_gap": null,
       "grid_row": null,
       "grid_template_areas": null,
       "grid_template_columns": null,
       "grid_template_rows": null,
       "height": null,
       "justify_content": null,
       "justify_items": null,
       "left": null,
       "margin": null,
       "max_height": null,
       "max_width": null,
       "min_height": null,
       "min_width": null,
       "object_fit": null,
       "object_position": null,
       "order": null,
       "overflow": null,
       "overflow_x": null,
       "overflow_y": null,
       "padding": null,
       "right": null,
       "top": null,
       "visibility": null,
       "width": null
      }
     },
     "cc86b825b77f419d998b1b3ab6e53f12": {
      "model_module": "@jupyter-widgets/base",
      "model_module_version": "1.2.0",
      "model_name": "LayoutModel",
      "state": {
       "_model_module": "@jupyter-widgets/base",
       "_model_module_version": "1.2.0",
       "_model_name": "LayoutModel",
       "_view_count": null,
       "_view_module": "@jupyter-widgets/base",
       "_view_module_version": "1.2.0",
       "_view_name": "LayoutView",
       "align_content": null,
       "align_items": null,
       "align_self": null,
       "border": null,
       "bottom": null,
       "display": null,
       "flex": null,
       "flex_flow": null,
       "grid_area": null,
       "grid_auto_columns": null,
       "grid_auto_flow": null,
       "grid_auto_rows": null,
       "grid_column": null,
       "grid_gap": null,
       "grid_row": null,
       "grid_template_areas": null,
       "grid_template_columns": null,
       "grid_template_rows": null,
       "height": null,
       "justify_content": null,
       "justify_items": null,
       "left": null,
       "margin": null,
       "max_height": null,
       "max_width": null,
       "min_height": null,
       "min_width": null,
       "object_fit": null,
       "object_position": null,
       "order": null,
       "overflow": null,
       "overflow_x": null,
       "overflow_y": null,
       "padding": null,
       "right": null,
       "top": null,
       "visibility": null,
       "width": null
      }
     },
     "ce5fa9b60a4b406285c860543ae1e3a8": {
      "model_module": "@jupyter-widgets/controls",
      "model_module_version": "1.5.0",
      "model_name": "HTMLModel",
      "state": {
       "_dom_classes": [],
       "_model_module": "@jupyter-widgets/controls",
       "_model_module_version": "1.5.0",
       "_model_name": "HTMLModel",
       "_view_count": null,
       "_view_module": "@jupyter-widgets/controls",
       "_view_module_version": "1.5.0",
       "_view_name": "HTMLView",
       "description": "",
       "description_tooltip": null,
       "layout": "IPY_MODEL_fbb95fb5f65c4156980a9f6ed13d6f3b",
       "placeholder": "​",
       "style": "IPY_MODEL_7f7650421db2431c83bc26114c79b2d3",
       "value": " 378M/378M [00:10&lt;00:00, 36.8MB/s]"
      }
     },
     "cf76b3f1bf894bdcb9a4e14c98c8c3ac": {
      "model_module": "@jupyter-widgets/base",
      "model_module_version": "1.2.0",
      "model_name": "LayoutModel",
      "state": {
       "_model_module": "@jupyter-widgets/base",
       "_model_module_version": "1.2.0",
       "_model_name": "LayoutModel",
       "_view_count": null,
       "_view_module": "@jupyter-widgets/base",
       "_view_module_version": "1.2.0",
       "_view_name": "LayoutView",
       "align_content": null,
       "align_items": null,
       "align_self": null,
       "border": null,
       "bottom": null,
       "display": null,
       "flex": null,
       "flex_flow": null,
       "grid_area": null,
       "grid_auto_columns": null,
       "grid_auto_flow": null,
       "grid_auto_rows": null,
       "grid_column": null,
       "grid_gap": null,
       "grid_row": null,
       "grid_template_areas": null,
       "grid_template_columns": null,
       "grid_template_rows": null,
       "height": null,
       "justify_content": null,
       "justify_items": null,
       "left": null,
       "margin": null,
       "max_height": null,
       "max_width": null,
       "min_height": null,
       "min_width": null,
       "object_fit": null,
       "object_position": null,
       "order": null,
       "overflow": null,
       "overflow_x": null,
       "overflow_y": null,
       "padding": null,
       "right": null,
       "top": null,
       "visibility": null,
       "width": null
      }
     },
     "d00c67eb9a3248b0aedf7e965b45c91a": {
      "model_module": "@jupyter-widgets/controls",
      "model_module_version": "1.5.0",
      "model_name": "HTMLModel",
      "state": {
       "_dom_classes": [],
       "_model_module": "@jupyter-widgets/controls",
       "_model_module_version": "1.5.0",
       "_model_name": "HTMLModel",
       "_view_count": null,
       "_view_module": "@jupyter-widgets/controls",
       "_view_module_version": "1.5.0",
       "_view_name": "HTMLView",
       "description": "",
       "description_tooltip": null,
       "layout": "IPY_MODEL_62bf92d6549e4f6baae8137ca0cacbb7",
       "placeholder": "​",
       "style": "IPY_MODEL_4a0075e0639e4cdbb331b5e048d379d0",
       "value": " 85.0/85.0 [00:00&lt;00:00, 2.66kB/s]"
      }
     },
     "d04ccb9dca07462f97481153a5e5024a": {
      "model_module": "@jupyter-widgets/controls",
      "model_module_version": "1.5.0",
      "model_name": "HBoxModel",
      "state": {
       "_dom_classes": [],
       "_model_module": "@jupyter-widgets/controls",
       "_model_module_version": "1.5.0",
       "_model_name": "HBoxModel",
       "_view_count": null,
       "_view_module": "@jupyter-widgets/controls",
       "_view_module_version": "1.5.0",
       "_view_name": "HBoxView",
       "box_style": "",
       "children": [
        "IPY_MODEL_f00366cab8b5497996c35fc89fdaa3bf",
        "IPY_MODEL_fb2a9e3bc74c4789ae940251f09a98b0",
        "IPY_MODEL_bcd8079747af4c2d9964d0b5ca4c2efe"
       ],
       "layout": "IPY_MODEL_7e12e4de184343ec80e64c062eee3f0c"
      }
     },
     "e1c7febc8a36482a85f214fe7f61f05c": {
      "model_module": "@jupyter-widgets/base",
      "model_module_version": "1.2.0",
      "model_name": "LayoutModel",
      "state": {
       "_model_module": "@jupyter-widgets/base",
       "_model_module_version": "1.2.0",
       "_model_name": "LayoutModel",
       "_view_count": null,
       "_view_module": "@jupyter-widgets/base",
       "_view_module_version": "1.2.0",
       "_view_name": "LayoutView",
       "align_content": null,
       "align_items": null,
       "align_self": null,
       "border": null,
       "bottom": null,
       "display": null,
       "flex": null,
       "flex_flow": null,
       "grid_area": null,
       "grid_auto_columns": null,
       "grid_auto_flow": null,
       "grid_auto_rows": null,
       "grid_column": null,
       "grid_gap": null,
       "grid_row": null,
       "grid_template_areas": null,
       "grid_template_columns": null,
       "grid_template_rows": null,
       "height": null,
       "justify_content": null,
       "justify_items": null,
       "left": null,
       "margin": null,
       "max_height": null,
       "max_width": null,
       "min_height": null,
       "min_width": null,
       "object_fit": null,
       "object_position": null,
       "order": null,
       "overflow": null,
       "overflow_x": null,
       "overflow_y": null,
       "padding": null,
       "right": null,
       "top": null,
       "visibility": null,
       "width": null
      }
     },
     "e859e90fd14748eaac38b075df33100f": {
      "model_module": "@jupyter-widgets/base",
      "model_module_version": "1.2.0",
      "model_name": "LayoutModel",
      "state": {
       "_model_module": "@jupyter-widgets/base",
       "_model_module_version": "1.2.0",
       "_model_name": "LayoutModel",
       "_view_count": null,
       "_view_module": "@jupyter-widgets/base",
       "_view_module_version": "1.2.0",
       "_view_name": "LayoutView",
       "align_content": null,
       "align_items": null,
       "align_self": null,
       "border": null,
       "bottom": null,
       "display": null,
       "flex": null,
       "flex_flow": null,
       "grid_area": null,
       "grid_auto_columns": null,
       "grid_auto_flow": null,
       "grid_auto_rows": null,
       "grid_column": null,
       "grid_gap": null,
       "grid_row": null,
       "grid_template_areas": null,
       "grid_template_columns": null,
       "grid_template_rows": null,
       "height": null,
       "justify_content": null,
       "justify_items": null,
       "left": null,
       "margin": null,
       "max_height": null,
       "max_width": null,
       "min_height": null,
       "min_width": null,
       "object_fit": null,
       "object_position": null,
       "order": null,
       "overflow": null,
       "overflow_x": null,
       "overflow_y": null,
       "padding": null,
       "right": null,
       "top": null,
       "visibility": null,
       "width": null
      }
     },
     "e867bd52f8a74bb4a5ff5aad661300d6": {
      "model_module": "@jupyter-widgets/base",
      "model_module_version": "1.2.0",
      "model_name": "LayoutModel",
      "state": {
       "_model_module": "@jupyter-widgets/base",
       "_model_module_version": "1.2.0",
       "_model_name": "LayoutModel",
       "_view_count": null,
       "_view_module": "@jupyter-widgets/base",
       "_view_module_version": "1.2.0",
       "_view_name": "LayoutView",
       "align_content": null,
       "align_items": null,
       "align_self": null,
       "border": null,
       "bottom": null,
       "display": null,
       "flex": null,
       "flex_flow": null,
       "grid_area": null,
       "grid_auto_columns": null,
       "grid_auto_flow": null,
       "grid_auto_rows": null,
       "grid_column": null,
       "grid_gap": null,
       "grid_row": null,
       "grid_template_areas": null,
       "grid_template_columns": null,
       "grid_template_rows": null,
       "height": null,
       "justify_content": null,
       "justify_items": null,
       "left": null,
       "margin": null,
       "max_height": null,
       "max_width": null,
       "min_height": null,
       "min_width": null,
       "object_fit": null,
       "object_position": null,
       "order": null,
       "overflow": null,
       "overflow_x": null,
       "overflow_y": null,
       "padding": null,
       "right": null,
       "top": null,
       "visibility": null,
       "width": null
      }
     },
     "e9addfe6074d4cfda46af3afe207d907": {
      "model_module": "@jupyter-widgets/controls",
      "model_module_version": "1.5.0",
      "model_name": "HBoxModel",
      "state": {
       "_dom_classes": [],
       "_model_module": "@jupyter-widgets/controls",
       "_model_module_version": "1.5.0",
       "_model_name": "HBoxModel",
       "_view_count": null,
       "_view_module": "@jupyter-widgets/controls",
       "_view_module_version": "1.5.0",
       "_view_name": "HBoxView",
       "box_style": "",
       "children": [
        "IPY_MODEL_7e6e97be495f4969800ba7e959760bbc",
        "IPY_MODEL_1f743a2838174b11aa4df17a93adf216",
        "IPY_MODEL_b0c83a27ddde4aa9b588812705945133"
       ],
       "layout": "IPY_MODEL_fa7bf07447014f74966c76f9084c56fe"
      }
     },
     "f00366cab8b5497996c35fc89fdaa3bf": {
      "model_module": "@jupyter-widgets/controls",
      "model_module_version": "1.5.0",
      "model_name": "HTMLModel",
      "state": {
       "_dom_classes": [],
       "_model_module": "@jupyter-widgets/controls",
       "_model_module_version": "1.5.0",
       "_model_name": "HTMLModel",
       "_view_count": null,
       "_view_module": "@jupyter-widgets/controls",
       "_view_module_version": "1.5.0",
       "_view_name": "HTMLView",
       "description": "",
       "description_tooltip": null,
       "layout": "IPY_MODEL_cb2a27b66ca843a7bfd586b0f2cbe290",
       "placeholder": "​",
       "style": "IPY_MODEL_a956acb5d5ce43e49c36c0d7d5b8ff5a",
       "value": "Downloading: 100%"
      }
     },
     "f21276ae2d434908b4751509f3a50f0e": {
      "model_module": "@jupyter-widgets/base",
      "model_module_version": "1.2.0",
      "model_name": "LayoutModel",
      "state": {
       "_model_module": "@jupyter-widgets/base",
       "_model_module_version": "1.2.0",
       "_model_name": "LayoutModel",
       "_view_count": null,
       "_view_module": "@jupyter-widgets/base",
       "_view_module_version": "1.2.0",
       "_view_name": "LayoutView",
       "align_content": null,
       "align_items": null,
       "align_self": null,
       "border": null,
       "bottom": null,
       "display": null,
       "flex": null,
       "flex_flow": null,
       "grid_area": null,
       "grid_auto_columns": null,
       "grid_auto_flow": null,
       "grid_auto_rows": null,
       "grid_column": null,
       "grid_gap": null,
       "grid_row": null,
       "grid_template_areas": null,
       "grid_template_columns": null,
       "grid_template_rows": null,
       "height": null,
       "justify_content": null,
       "justify_items": null,
       "left": null,
       "margin": null,
       "max_height": null,
       "max_width": null,
       "min_height": null,
       "min_width": null,
       "object_fit": null,
       "object_position": null,
       "order": null,
       "overflow": null,
       "overflow_x": null,
       "overflow_y": null,
       "padding": null,
       "right": null,
       "top": null,
       "visibility": null,
       "width": null
      }
     },
     "f76a48fd76f442b8bc0dbd2ad9369a3f": {
      "model_module": "@jupyter-widgets/controls",
      "model_module_version": "1.5.0",
      "model_name": "HTMLModel",
      "state": {
       "_dom_classes": [],
       "_model_module": "@jupyter-widgets/controls",
       "_model_module_version": "1.5.0",
       "_model_name": "HTMLModel",
       "_view_count": null,
       "_view_module": "@jupyter-widgets/controls",
       "_view_module_version": "1.5.0",
       "_view_name": "HTMLView",
       "description": "",
       "description_tooltip": null,
       "layout": "IPY_MODEL_1dcde947f19b4ac2bbe675b1681b4107",
       "placeholder": "​",
       "style": "IPY_MODEL_7694aa9fa6f74261b96e29e829975b09",
       "value": " 291/291 [00:00&lt;00:00, 8.39kB/s]"
      }
     },
     "f82629110f92452fb4edf5954ac06bed": {
      "model_module": "@jupyter-widgets/base",
      "model_module_version": "1.2.0",
      "model_name": "LayoutModel",
      "state": {
       "_model_module": "@jupyter-widgets/base",
       "_model_module_version": "1.2.0",
       "_model_name": "LayoutModel",
       "_view_count": null,
       "_view_module": "@jupyter-widgets/base",
       "_view_module_version": "1.2.0",
       "_view_name": "LayoutView",
       "align_content": null,
       "align_items": null,
       "align_self": null,
       "border": null,
       "bottom": null,
       "display": null,
       "flex": null,
       "flex_flow": null,
       "grid_area": null,
       "grid_auto_columns": null,
       "grid_auto_flow": null,
       "grid_auto_rows": null,
       "grid_column": null,
       "grid_gap": null,
       "grid_row": null,
       "grid_template_areas": null,
       "grid_template_columns": null,
       "grid_template_rows": null,
       "height": null,
       "justify_content": null,
       "justify_items": null,
       "left": null,
       "margin": null,
       "max_height": null,
       "max_width": null,
       "min_height": null,
       "min_width": null,
       "object_fit": null,
       "object_position": null,
       "order": null,
       "overflow": null,
       "overflow_x": null,
       "overflow_y": null,
       "padding": null,
       "right": null,
       "top": null,
       "visibility": null,
       "width": null
      }
     },
     "fa3b52eacb5643a6ba0925e46aa4d06d": {
      "model_module": "@jupyter-widgets/base",
      "model_module_version": "1.2.0",
      "model_name": "LayoutModel",
      "state": {
       "_model_module": "@jupyter-widgets/base",
       "_model_module_version": "1.2.0",
       "_model_name": "LayoutModel",
       "_view_count": null,
       "_view_module": "@jupyter-widgets/base",
       "_view_module_version": "1.2.0",
       "_view_name": "LayoutView",
       "align_content": null,
       "align_items": null,
       "align_self": null,
       "border": null,
       "bottom": null,
       "display": null,
       "flex": null,
       "flex_flow": null,
       "grid_area": null,
       "grid_auto_columns": null,
       "grid_auto_flow": null,
       "grid_auto_rows": null,
       "grid_column": null,
       "grid_gap": null,
       "grid_row": null,
       "grid_template_areas": null,
       "grid_template_columns": null,
       "grid_template_rows": null,
       "height": null,
       "justify_content": null,
       "justify_items": null,
       "left": null,
       "margin": null,
       "max_height": null,
       "max_width": null,
       "min_height": null,
       "min_width": null,
       "object_fit": null,
       "object_position": null,
       "order": null,
       "overflow": null,
       "overflow_x": null,
       "overflow_y": null,
       "padding": null,
       "right": null,
       "top": null,
       "visibility": null,
       "width": null
      }
     },
     "fa7bf07447014f74966c76f9084c56fe": {
      "model_module": "@jupyter-widgets/base",
      "model_module_version": "1.2.0",
      "model_name": "LayoutModel",
      "state": {
       "_model_module": "@jupyter-widgets/base",
       "_model_module_version": "1.2.0",
       "_model_name": "LayoutModel",
       "_view_count": null,
       "_view_module": "@jupyter-widgets/base",
       "_view_module_version": "1.2.0",
       "_view_name": "LayoutView",
       "align_content": null,
       "align_items": null,
       "align_self": null,
       "border": null,
       "bottom": null,
       "display": null,
       "flex": null,
       "flex_flow": null,
       "grid_area": null,
       "grid_auto_columns": null,
       "grid_auto_flow": null,
       "grid_auto_rows": null,
       "grid_column": null,
       "grid_gap": null,
       "grid_row": null,
       "grid_template_areas": null,
       "grid_template_columns": null,
       "grid_template_rows": null,
       "height": null,
       "justify_content": null,
       "justify_items": null,
       "left": null,
       "margin": null,
       "max_height": null,
       "max_width": null,
       "min_height": null,
       "min_width": null,
       "object_fit": null,
       "object_position": null,
       "order": null,
       "overflow": null,
       "overflow_x": null,
       "overflow_y": null,
       "padding": null,
       "right": null,
       "top": null,
       "visibility": null,
       "width": null
      }
     },
     "faded74a47114fb790e1bb999406db8d": {
      "model_module": "@jupyter-widgets/controls",
      "model_module_version": "1.5.0",
      "model_name": "DescriptionStyleModel",
      "state": {
       "_model_module": "@jupyter-widgets/controls",
       "_model_module_version": "1.5.0",
       "_model_name": "DescriptionStyleModel",
       "_view_count": null,
       "_view_module": "@jupyter-widgets/base",
       "_view_module_version": "1.2.0",
       "_view_name": "StyleView",
       "description_width": ""
      }
     },
     "fb2a9e3bc74c4789ae940251f09a98b0": {
      "model_module": "@jupyter-widgets/controls",
      "model_module_version": "1.5.0",
      "model_name": "FloatProgressModel",
      "state": {
       "_dom_classes": [],
       "_model_module": "@jupyter-widgets/controls",
       "_model_module_version": "1.5.0",
       "_model_name": "FloatProgressModel",
       "_view_count": null,
       "_view_module": "@jupyter-widgets/controls",
       "_view_module_version": "1.5.0",
       "_view_name": "ProgressView",
       "bar_style": "success",
       "description": "",
       "description_tooltip": null,
       "layout": "IPY_MODEL_c9fe037914b647d2b65822b00d6b11e7",
       "max": 163.0,
       "min": 0.0,
       "orientation": "horizontal",
       "style": "IPY_MODEL_c82ee9e21f09427b93ae8cb4cdfbc41a",
       "value": 163.0
      }
     },
     "fbb95fb5f65c4156980a9f6ed13d6f3b": {
      "model_module": "@jupyter-widgets/base",
      "model_module_version": "1.2.0",
      "model_name": "LayoutModel",
      "state": {
       "_model_module": "@jupyter-widgets/base",
       "_model_module_version": "1.2.0",
       "_model_name": "LayoutModel",
       "_view_count": null,
       "_view_module": "@jupyter-widgets/base",
       "_view_module_version": "1.2.0",
       "_view_name": "LayoutView",
       "align_content": null,
       "align_items": null,
       "align_self": null,
       "border": null,
       "bottom": null,
       "display": null,
       "flex": null,
       "flex_flow": null,
       "grid_area": null,
       "grid_auto_columns": null,
       "grid_auto_flow": null,
       "grid_auto_rows": null,
       "grid_column": null,
       "grid_gap": null,
       "grid_row": null,
       "grid_template_areas": null,
       "grid_template_columns": null,
       "grid_template_rows": null,
       "height": null,
       "justify_content": null,
       "justify_items": null,
       "left": null,
       "margin": null,
       "max_height": null,
       "max_width": null,
       "min_height": null,
       "min_width": null,
       "object_fit": null,
       "object_position": null,
       "order": null,
       "overflow": null,
       "overflow_x": null,
       "overflow_y": null,
       "padding": null,
       "right": null,
       "top": null,
       "visibility": null,
       "width": null
      }
     },
     "fc0f45c30fa64b43a1c70eeb8abb6638": {
      "model_module": "@jupyter-widgets/base",
      "model_module_version": "1.2.0",
      "model_name": "LayoutModel",
      "state": {
       "_model_module": "@jupyter-widgets/base",
       "_model_module_version": "1.2.0",
       "_model_name": "LayoutModel",
       "_view_count": null,
       "_view_module": "@jupyter-widgets/base",
       "_view_module_version": "1.2.0",
       "_view_name": "LayoutView",
       "align_content": null,
       "align_items": null,
       "align_self": null,
       "border": null,
       "bottom": null,
       "display": null,
       "flex": null,
       "flex_flow": null,
       "grid_area": null,
       "grid_auto_columns": null,
       "grid_auto_flow": null,
       "grid_auto_rows": null,
       "grid_column": null,
       "grid_gap": null,
       "grid_row": null,
       "grid_template_areas": null,
       "grid_template_columns": null,
       "grid_template_rows": null,
       "height": null,
       "justify_content": null,
       "justify_items": null,
       "left": null,
       "margin": null,
       "max_height": null,
       "max_width": null,
       "min_height": null,
       "min_width": null,
       "object_fit": null,
       "object_position": null,
       "order": null,
       "overflow": null,
       "overflow_x": null,
       "overflow_y": null,
       "padding": null,
       "right": null,
       "top": null,
       "visibility": null,
       "width": null
      }
     },
     "ff81b5c511b94186824536505c9636bd": {
      "model_module": "@jupyter-widgets/base",
      "model_module_version": "1.2.0",
      "model_name": "LayoutModel",
      "state": {
       "_model_module": "@jupyter-widgets/base",
       "_model_module_version": "1.2.0",
       "_model_name": "LayoutModel",
       "_view_count": null,
       "_view_module": "@jupyter-widgets/base",
       "_view_module_version": "1.2.0",
       "_view_name": "LayoutView",
       "align_content": null,
       "align_items": null,
       "align_self": null,
       "border": null,
       "bottom": null,
       "display": null,
       "flex": null,
       "flex_flow": null,
       "grid_area": null,
       "grid_auto_columns": null,
       "grid_auto_flow": null,
       "grid_auto_rows": null,
       "grid_column": null,
       "grid_gap": null,
       "grid_row": null,
       "grid_template_areas": null,
       "grid_template_columns": null,
       "grid_template_rows": null,
       "height": null,
       "justify_content": null,
       "justify_items": null,
       "left": null,
       "margin": null,
       "max_height": null,
       "max_width": null,
       "min_height": null,
       "min_width": null,
       "object_fit": null,
       "object_position": null,
       "order": null,
       "overflow": null,
       "overflow_x": null,
       "overflow_y": null,
       "padding": null,
       "right": null,
       "top": null,
       "visibility": null,
       "width": null
      }
     }
    },
    "version_major": 2,
    "version_minor": 0
   }
  }
 },
 "nbformat": 4,
 "nbformat_minor": 4
}
