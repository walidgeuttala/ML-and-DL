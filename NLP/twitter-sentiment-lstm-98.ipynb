{
 "cells": [
  {
   "cell_type": "code",
   "execution_count": 1,
   "id": "51812e0b",
   "metadata": {
    "execution": {
     "iopub.execute_input": "2022-07-03T20:21:32.744935Z",
     "iopub.status.busy": "2022-07-03T20:21:32.744316Z",
     "iopub.status.idle": "2022-07-03T20:21:39.133035Z",
     "shell.execute_reply": "2022-07-03T20:21:39.132034Z"
    },
    "papermill": {
     "duration": 6.408198,
     "end_time": "2022-07-03T20:21:39.135885",
     "exception": false,
     "start_time": "2022-07-03T20:21:32.727687",
     "status": "completed"
    },
    "tags": []
   },
   "outputs": [],
   "source": [
    "import pandas as pd\n",
    "import numpy as np\n",
    "import matplotlib.pyplot as plt\n",
    "import seaborn as sn\n",
    "\n",
    "import re\n",
    "from nltk.tokenize  import word_tokenize\n",
    "from nltk.corpus import stopwords\n",
    "from nltk.stem import PorterStemmer\n",
    "\n",
    "from sklearn.utils import shuffle\n",
    "\n",
    "\n",
    "from sklearn.model_selection import train_test_split\n",
    "\n",
    "import tensorflow as tf\n",
    "\n",
    "import keras\n",
    "from keras.models import Sequential\n",
    "from keras.layers import Dense, LSTM, Bidirectional, Dropout\n",
    "from keras.layers import Embedding\n",
    "from keras.layers.convolutional import Conv1D\n",
    "from keras.layers.convolutional import MaxPooling1D\n",
    "from keras.layers.core import Activation\n",
    "from keras.layers.core import Dropout\n",
    "from keras.layers.core import Dense\n",
    "from keras.layers.core import Flatten\n",
    "from keras_preprocessing.sequence import pad_sequences\n",
    "from tensorflow.keras.optimizers import Adam\n",
    "from tensorflow.keras.losses import SparseCategoricalCrossentropy , CategoricalCrossentropy\n",
    "\n",
    "from tensorflow.keras.utils import to_categorical\n",
    "\n",
    "from sklearn.metrics import accuracy_score,confusion_matrix, classification_report\n",
    "import warnings\n",
    "warnings.filterwarnings(\"ignore\")"
   ]
  },
  {
   "cell_type": "code",
   "execution_count": 2,
   "id": "a5dae27b",
   "metadata": {
    "execution": {
     "iopub.execute_input": "2022-07-03T20:21:39.147690Z",
     "iopub.status.busy": "2022-07-03T20:21:39.147175Z",
     "iopub.status.idle": "2022-07-03T20:21:39.705059Z",
     "shell.execute_reply": "2022-07-03T20:21:39.704073Z"
    },
    "papermill": {
     "duration": 0.566338,
     "end_time": "2022-07-03T20:21:39.707559",
     "exception": false,
     "start_time": "2022-07-03T20:21:39.141221",
     "status": "completed"
    },
    "tags": []
   },
   "outputs": [
    {
     "data": {
      "text/html": [
       "<div>\n",
       "<style scoped>\n",
       "    .dataframe tbody tr th:only-of-type {\n",
       "        vertical-align: middle;\n",
       "    }\n",
       "\n",
       "    .dataframe tbody tr th {\n",
       "        vertical-align: top;\n",
       "    }\n",
       "\n",
       "    .dataframe thead th {\n",
       "        text-align: right;\n",
       "    }\n",
       "</style>\n",
       "<table border=\"1\" class=\"dataframe\">\n",
       "  <thead>\n",
       "    <tr style=\"text-align: right;\">\n",
       "      <th></th>\n",
       "      <th>clean_text</th>\n",
       "      <th>category</th>\n",
       "    </tr>\n",
       "  </thead>\n",
       "  <tbody>\n",
       "    <tr>\n",
       "      <th>0</th>\n",
       "      <td>when modi promised “minimum government maximum...</td>\n",
       "      <td>-1.0</td>\n",
       "    </tr>\n",
       "    <tr>\n",
       "      <th>1</th>\n",
       "      <td>talk all the nonsense and continue all the dra...</td>\n",
       "      <td>0.0</td>\n",
       "    </tr>\n",
       "    <tr>\n",
       "      <th>2</th>\n",
       "      <td>what did just say vote for modi  welcome bjp t...</td>\n",
       "      <td>1.0</td>\n",
       "    </tr>\n",
       "    <tr>\n",
       "      <th>3</th>\n",
       "      <td>asking his supporters prefix chowkidar their n...</td>\n",
       "      <td>1.0</td>\n",
       "    </tr>\n",
       "    <tr>\n",
       "      <th>4</th>\n",
       "      <td>answer who among these the most powerful world...</td>\n",
       "      <td>1.0</td>\n",
       "    </tr>\n",
       "  </tbody>\n",
       "</table>\n",
       "</div>"
      ],
      "text/plain": [
       "                                          clean_text  category\n",
       "0  when modi promised “minimum government maximum...      -1.0\n",
       "1  talk all the nonsense and continue all the dra...       0.0\n",
       "2  what did just say vote for modi  welcome bjp t...       1.0\n",
       "3  asking his supporters prefix chowkidar their n...       1.0\n",
       "4  answer who among these the most powerful world...       1.0"
      ]
     },
     "execution_count": 2,
     "metadata": {},
     "output_type": "execute_result"
    }
   ],
   "source": [
    "df = pd.read_csv(\"../input/twitter-sentiment-dataset/Twitter_Data.csv\")\n",
    "df.head()"
   ]
  },
  {
   "cell_type": "code",
   "execution_count": 3,
   "id": "5d70d5e9",
   "metadata": {
    "execution": {
     "iopub.execute_input": "2022-07-03T20:21:39.720395Z",
     "iopub.status.busy": "2022-07-03T20:21:39.720042Z",
     "iopub.status.idle": "2022-07-03T20:21:39.790336Z",
     "shell.execute_reply": "2022-07-03T20:21:39.789360Z"
    },
    "papermill": {
     "duration": 0.079406,
     "end_time": "2022-07-03T20:21:39.792730",
     "exception": false,
     "start_time": "2022-07-03T20:21:39.713324",
     "status": "completed"
    },
    "tags": []
   },
   "outputs": [],
   "source": [
    "df['category'].mask(df['category'] == -1,'negative',  inplace=True)\n",
    "df['category'].mask(df['category'] == 0,'normal',  inplace=True)\n",
    "df['category'].mask(df['category'] == 1,'positive',  inplace=True)"
   ]
  },
  {
   "cell_type": "code",
   "execution_count": 4,
   "id": "b93a23c2",
   "metadata": {
    "execution": {
     "iopub.execute_input": "2022-07-03T20:21:39.804793Z",
     "iopub.status.busy": "2022-07-03T20:21:39.804483Z",
     "iopub.status.idle": "2022-07-03T20:21:39.813477Z",
     "shell.execute_reply": "2022-07-03T20:21:39.812593Z"
    },
    "papermill": {
     "duration": 0.017154,
     "end_time": "2022-07-03T20:21:39.815346",
     "exception": false,
     "start_time": "2022-07-03T20:21:39.798192",
     "status": "completed"
    },
    "tags": []
   },
   "outputs": [
    {
     "data": {
      "text/html": [
       "<div>\n",
       "<style scoped>\n",
       "    .dataframe tbody tr th:only-of-type {\n",
       "        vertical-align: middle;\n",
       "    }\n",
       "\n",
       "    .dataframe tbody tr th {\n",
       "        vertical-align: top;\n",
       "    }\n",
       "\n",
       "    .dataframe thead th {\n",
       "        text-align: right;\n",
       "    }\n",
       "</style>\n",
       "<table border=\"1\" class=\"dataframe\">\n",
       "  <thead>\n",
       "    <tr style=\"text-align: right;\">\n",
       "      <th></th>\n",
       "      <th>clean_text</th>\n",
       "      <th>category</th>\n",
       "    </tr>\n",
       "  </thead>\n",
       "  <tbody>\n",
       "    <tr>\n",
       "      <th>0</th>\n",
       "      <td>when modi promised “minimum government maximum...</td>\n",
       "      <td>negative</td>\n",
       "    </tr>\n",
       "    <tr>\n",
       "      <th>1</th>\n",
       "      <td>talk all the nonsense and continue all the dra...</td>\n",
       "      <td>normal</td>\n",
       "    </tr>\n",
       "    <tr>\n",
       "      <th>2</th>\n",
       "      <td>what did just say vote for modi  welcome bjp t...</td>\n",
       "      <td>positive</td>\n",
       "    </tr>\n",
       "    <tr>\n",
       "      <th>3</th>\n",
       "      <td>asking his supporters prefix chowkidar their n...</td>\n",
       "      <td>positive</td>\n",
       "    </tr>\n",
       "    <tr>\n",
       "      <th>4</th>\n",
       "      <td>answer who among these the most powerful world...</td>\n",
       "      <td>positive</td>\n",
       "    </tr>\n",
       "  </tbody>\n",
       "</table>\n",
       "</div>"
      ],
      "text/plain": [
       "                                          clean_text  category\n",
       "0  when modi promised “minimum government maximum...  negative\n",
       "1  talk all the nonsense and continue all the dra...    normal\n",
       "2  what did just say vote for modi  welcome bjp t...  positive\n",
       "3  asking his supporters prefix chowkidar their n...  positive\n",
       "4  answer who among these the most powerful world...  positive"
      ]
     },
     "execution_count": 4,
     "metadata": {},
     "output_type": "execute_result"
    }
   ],
   "source": [
    "df.head()"
   ]
  },
  {
   "cell_type": "code",
   "execution_count": 5,
   "id": "dc10872a",
   "metadata": {
    "execution": {
     "iopub.execute_input": "2022-07-03T20:21:39.828351Z",
     "iopub.status.busy": "2022-07-03T20:21:39.826946Z",
     "iopub.status.idle": "2022-07-03T20:21:39.878384Z",
     "shell.execute_reply": "2022-07-03T20:21:39.877129Z"
    },
    "papermill": {
     "duration": 0.060924,
     "end_time": "2022-07-03T20:21:39.881668",
     "exception": false,
     "start_time": "2022-07-03T20:21:39.820744",
     "status": "completed"
    },
    "tags": []
   },
   "outputs": [
    {
     "name": "stdout",
     "output_type": "stream",
     "text": [
      "<class 'pandas.core.frame.DataFrame'>\n",
      "RangeIndex: 162980 entries, 0 to 162979\n",
      "Data columns (total 2 columns):\n",
      " #   Column      Non-Null Count   Dtype \n",
      "---  ------      --------------   ----- \n",
      " 0   clean_text  162976 non-null  object\n",
      " 1   category    162973 non-null  object\n",
      "dtypes: object(2)\n",
      "memory usage: 2.5+ MB\n"
     ]
    }
   ],
   "source": [
    "df.info()"
   ]
  },
  {
   "cell_type": "code",
   "execution_count": 6,
   "id": "6d3b4557",
   "metadata": {
    "execution": {
     "iopub.execute_input": "2022-07-03T20:21:39.895211Z",
     "iopub.status.busy": "2022-07-03T20:21:39.894907Z",
     "iopub.status.idle": "2022-07-03T20:21:39.915210Z",
     "shell.execute_reply": "2022-07-03T20:21:39.914251Z"
    },
    "papermill": {
     "duration": 0.029139,
     "end_time": "2022-07-03T20:21:39.917422",
     "exception": false,
     "start_time": "2022-07-03T20:21:39.888283",
     "status": "completed"
    },
    "tags": []
   },
   "outputs": [
    {
     "data": {
      "text/plain": [
       "array(['negative', 'normal', 'positive', nan], dtype=object)"
      ]
     },
     "execution_count": 6,
     "metadata": {},
     "output_type": "execute_result"
    }
   ],
   "source": [
    "df.category.unique()"
   ]
  },
  {
   "cell_type": "code",
   "execution_count": 7,
   "id": "172003c6",
   "metadata": {
    "execution": {
     "iopub.execute_input": "2022-07-03T20:21:39.930069Z",
     "iopub.status.busy": "2022-07-03T20:21:39.929790Z",
     "iopub.status.idle": "2022-07-03T20:21:39.970036Z",
     "shell.execute_reply": "2022-07-03T20:21:39.968983Z"
    },
    "papermill": {
     "duration": 0.049382,
     "end_time": "2022-07-03T20:21:39.972667",
     "exception": false,
     "start_time": "2022-07-03T20:21:39.923285",
     "status": "completed"
    },
    "tags": []
   },
   "outputs": [
    {
     "data": {
      "text/plain": [
       "clean_text    4\n",
       "category      7\n",
       "dtype: int64"
      ]
     },
     "execution_count": 7,
     "metadata": {},
     "output_type": "execute_result"
    }
   ],
   "source": [
    "df.isna().sum()"
   ]
  },
  {
   "cell_type": "code",
   "execution_count": 8,
   "id": "7f054414",
   "metadata": {
    "execution": {
     "iopub.execute_input": "2022-07-03T20:21:39.985942Z",
     "iopub.status.busy": "2022-07-03T20:21:39.985669Z",
     "iopub.status.idle": "2022-07-03T20:21:40.042609Z",
     "shell.execute_reply": "2022-07-03T20:21:40.041529Z"
    },
    "papermill": {
     "duration": 0.066373,
     "end_time": "2022-07-03T20:21:40.045119",
     "exception": false,
     "start_time": "2022-07-03T20:21:39.978746",
     "status": "completed"
    },
    "tags": []
   },
   "outputs": [],
   "source": [
    "df= df.dropna()"
   ]
  },
  {
   "cell_type": "code",
   "execution_count": 9,
   "id": "68521eac",
   "metadata": {
    "execution": {
     "iopub.execute_input": "2022-07-03T20:21:40.058446Z",
     "iopub.status.busy": "2022-07-03T20:21:40.058146Z",
     "iopub.status.idle": "2022-07-03T20:21:40.167540Z",
     "shell.execute_reply": "2022-07-03T20:21:40.166485Z"
    },
    "papermill": {
     "duration": 0.118686,
     "end_time": "2022-07-03T20:21:40.170069",
     "exception": false,
     "start_time": "2022-07-03T20:21:40.051383",
     "status": "completed"
    },
    "tags": []
   },
   "outputs": [
    {
     "data": {
      "text/plain": [
       "0"
      ]
     },
     "execution_count": 9,
     "metadata": {},
     "output_type": "execute_result"
    }
   ],
   "source": [
    "df.duplicated().sum()"
   ]
  },
  {
   "cell_type": "code",
   "execution_count": 10,
   "id": "3aea51aa",
   "metadata": {
    "execution": {
     "iopub.execute_input": "2022-07-03T20:21:40.183550Z",
     "iopub.status.busy": "2022-07-03T20:21:40.183238Z",
     "iopub.status.idle": "2022-07-03T20:21:40.210000Z",
     "shell.execute_reply": "2022-07-03T20:21:40.208967Z"
    },
    "papermill": {
     "duration": 0.035741,
     "end_time": "2022-07-03T20:21:40.212045",
     "exception": false,
     "start_time": "2022-07-03T20:21:40.176304",
     "status": "completed"
    },
    "tags": []
   },
   "outputs": [
    {
     "data": {
      "text/plain": [
       "positive    72249\n",
       "normal      55211\n",
       "negative    35509\n",
       "Name: category, dtype: int64"
      ]
     },
     "execution_count": 10,
     "metadata": {},
     "output_type": "execute_result"
    }
   ],
   "source": [
    "df['category'].value_counts()"
   ]
  },
  {
   "cell_type": "code",
   "execution_count": 11,
   "id": "1bd2d119",
   "metadata": {
    "execution": {
     "iopub.execute_input": "2022-07-03T20:21:40.225625Z",
     "iopub.status.busy": "2022-07-03T20:21:40.225363Z",
     "iopub.status.idle": "2022-07-03T20:21:40.338937Z",
     "shell.execute_reply": "2022-07-03T20:21:40.337996Z"
    },
    "papermill": {
     "duration": 0.122732,
     "end_time": "2022-07-03T20:21:40.341065",
     "exception": false,
     "start_time": "2022-07-03T20:21:40.218333",
     "status": "completed"
    },
    "tags": []
   },
   "outputs": [
    {
     "data": {
      "text/html": [
       "        <script type=\"text/javascript\">\n",
       "        window.PlotlyConfig = {MathJaxConfig: 'local'};\n",
       "        if (window.MathJax && window.MathJax.Hub && window.MathJax.Hub.Config) {window.MathJax.Hub.Config({SVG: {font: \"STIX-Web\"}});}\n",
       "        if (typeof require !== 'undefined') {\n",
       "        require.undef(\"plotly\");\n",
       "        requirejs.config({\n",
       "            paths: {\n",
       "                'plotly': ['https://cdn.plot.ly/plotly-2.12.1.min']\n",
       "            }\n",
       "        });\n",
       "        require(['plotly'], function(Plotly) {\n",
       "            window._Plotly = Plotly;\n",
       "        });\n",
       "        }\n",
       "        </script>\n",
       "        "
      ]
     },
     "metadata": {},
     "output_type": "display_data"
    },
    {
     "data": {
      "text/html": [
       "<div>                            <div id=\"6229bfef-191a-4b23-bd4b-9274fbc206db\" class=\"plotly-graph-div\" style=\"height:525px; width:100%;\"></div>            <script type=\"text/javascript\">                require([\"plotly\"], function(Plotly) {                    window.PLOTLYENV=window.PLOTLYENV || {};                                    if (document.getElementById(\"6229bfef-191a-4b23-bd4b-9274fbc206db\")) {                    Plotly.newPlot(                        \"6229bfef-191a-4b23-bd4b-9274fbc206db\",                        [{\"x\":[\"positive\",\"normal\",\"negative\"],\"y\":[72249,55211,35509],\"type\":\"bar\"}],                        {\"template\":{\"data\":{\"histogram2dcontour\":[{\"type\":\"histogram2dcontour\",\"colorbar\":{\"outlinewidth\":0,\"ticks\":\"\"},\"colorscale\":[[0.0,\"#0d0887\"],[0.1111111111111111,\"#46039f\"],[0.2222222222222222,\"#7201a8\"],[0.3333333333333333,\"#9c179e\"],[0.4444444444444444,\"#bd3786\"],[0.5555555555555556,\"#d8576b\"],[0.6666666666666666,\"#ed7953\"],[0.7777777777777778,\"#fb9f3a\"],[0.8888888888888888,\"#fdca26\"],[1.0,\"#f0f921\"]]}],\"choropleth\":[{\"type\":\"choropleth\",\"colorbar\":{\"outlinewidth\":0,\"ticks\":\"\"}}],\"histogram2d\":[{\"type\":\"histogram2d\",\"colorbar\":{\"outlinewidth\":0,\"ticks\":\"\"},\"colorscale\":[[0.0,\"#0d0887\"],[0.1111111111111111,\"#46039f\"],[0.2222222222222222,\"#7201a8\"],[0.3333333333333333,\"#9c179e\"],[0.4444444444444444,\"#bd3786\"],[0.5555555555555556,\"#d8576b\"],[0.6666666666666666,\"#ed7953\"],[0.7777777777777778,\"#fb9f3a\"],[0.8888888888888888,\"#fdca26\"],[1.0,\"#f0f921\"]]}],\"heatmap\":[{\"type\":\"heatmap\",\"colorbar\":{\"outlinewidth\":0,\"ticks\":\"\"},\"colorscale\":[[0.0,\"#0d0887\"],[0.1111111111111111,\"#46039f\"],[0.2222222222222222,\"#7201a8\"],[0.3333333333333333,\"#9c179e\"],[0.4444444444444444,\"#bd3786\"],[0.5555555555555556,\"#d8576b\"],[0.6666666666666666,\"#ed7953\"],[0.7777777777777778,\"#fb9f3a\"],[0.8888888888888888,\"#fdca26\"],[1.0,\"#f0f921\"]]}],\"heatmapgl\":[{\"type\":\"heatmapgl\",\"colorbar\":{\"outlinewidth\":0,\"ticks\":\"\"},\"colorscale\":[[0.0,\"#0d0887\"],[0.1111111111111111,\"#46039f\"],[0.2222222222222222,\"#7201a8\"],[0.3333333333333333,\"#9c179e\"],[0.4444444444444444,\"#bd3786\"],[0.5555555555555556,\"#d8576b\"],[0.6666666666666666,\"#ed7953\"],[0.7777777777777778,\"#fb9f3a\"],[0.8888888888888888,\"#fdca26\"],[1.0,\"#f0f921\"]]}],\"contourcarpet\":[{\"type\":\"contourcarpet\",\"colorbar\":{\"outlinewidth\":0,\"ticks\":\"\"}}],\"contour\":[{\"type\":\"contour\",\"colorbar\":{\"outlinewidth\":0,\"ticks\":\"\"},\"colorscale\":[[0.0,\"#0d0887\"],[0.1111111111111111,\"#46039f\"],[0.2222222222222222,\"#7201a8\"],[0.3333333333333333,\"#9c179e\"],[0.4444444444444444,\"#bd3786\"],[0.5555555555555556,\"#d8576b\"],[0.6666666666666666,\"#ed7953\"],[0.7777777777777778,\"#fb9f3a\"],[0.8888888888888888,\"#fdca26\"],[1.0,\"#f0f921\"]]}],\"surface\":[{\"type\":\"surface\",\"colorbar\":{\"outlinewidth\":0,\"ticks\":\"\"},\"colorscale\":[[0.0,\"#0d0887\"],[0.1111111111111111,\"#46039f\"],[0.2222222222222222,\"#7201a8\"],[0.3333333333333333,\"#9c179e\"],[0.4444444444444444,\"#bd3786\"],[0.5555555555555556,\"#d8576b\"],[0.6666666666666666,\"#ed7953\"],[0.7777777777777778,\"#fb9f3a\"],[0.8888888888888888,\"#fdca26\"],[1.0,\"#f0f921\"]]}],\"mesh3d\":[{\"type\":\"mesh3d\",\"colorbar\":{\"outlinewidth\":0,\"ticks\":\"\"}}],\"scatter\":[{\"fillpattern\":{\"fillmode\":\"overlay\",\"size\":10,\"solidity\":0.2},\"type\":\"scatter\"}],\"parcoords\":[{\"type\":\"parcoords\",\"line\":{\"colorbar\":{\"outlinewidth\":0,\"ticks\":\"\"}}}],\"scatterpolargl\":[{\"type\":\"scatterpolargl\",\"marker\":{\"colorbar\":{\"outlinewidth\":0,\"ticks\":\"\"}}}],\"bar\":[{\"error_x\":{\"color\":\"#2a3f5f\"},\"error_y\":{\"color\":\"#2a3f5f\"},\"marker\":{\"line\":{\"color\":\"#E5ECF6\",\"width\":0.5},\"pattern\":{\"fillmode\":\"overlay\",\"size\":10,\"solidity\":0.2}},\"type\":\"bar\"}],\"scattergeo\":[{\"type\":\"scattergeo\",\"marker\":{\"colorbar\":{\"outlinewidth\":0,\"ticks\":\"\"}}}],\"scatterpolar\":[{\"type\":\"scatterpolar\",\"marker\":{\"colorbar\":{\"outlinewidth\":0,\"ticks\":\"\"}}}],\"histogram\":[{\"marker\":{\"pattern\":{\"fillmode\":\"overlay\",\"size\":10,\"solidity\":0.2}},\"type\":\"histogram\"}],\"scattergl\":[{\"type\":\"scattergl\",\"marker\":{\"colorbar\":{\"outlinewidth\":0,\"ticks\":\"\"}}}],\"scatter3d\":[{\"type\":\"scatter3d\",\"line\":{\"colorbar\":{\"outlinewidth\":0,\"ticks\":\"\"}},\"marker\":{\"colorbar\":{\"outlinewidth\":0,\"ticks\":\"\"}}}],\"scattermapbox\":[{\"type\":\"scattermapbox\",\"marker\":{\"colorbar\":{\"outlinewidth\":0,\"ticks\":\"\"}}}],\"scatterternary\":[{\"type\":\"scatterternary\",\"marker\":{\"colorbar\":{\"outlinewidth\":0,\"ticks\":\"\"}}}],\"scattercarpet\":[{\"type\":\"scattercarpet\",\"marker\":{\"colorbar\":{\"outlinewidth\":0,\"ticks\":\"\"}}}],\"carpet\":[{\"aaxis\":{\"endlinecolor\":\"#2a3f5f\",\"gridcolor\":\"white\",\"linecolor\":\"white\",\"minorgridcolor\":\"white\",\"startlinecolor\":\"#2a3f5f\"},\"baxis\":{\"endlinecolor\":\"#2a3f5f\",\"gridcolor\":\"white\",\"linecolor\":\"white\",\"minorgridcolor\":\"white\",\"startlinecolor\":\"#2a3f5f\"},\"type\":\"carpet\"}],\"table\":[{\"cells\":{\"fill\":{\"color\":\"#EBF0F8\"},\"line\":{\"color\":\"white\"}},\"header\":{\"fill\":{\"color\":\"#C8D4E3\"},\"line\":{\"color\":\"white\"}},\"type\":\"table\"}],\"barpolar\":[{\"marker\":{\"line\":{\"color\":\"#E5ECF6\",\"width\":0.5},\"pattern\":{\"fillmode\":\"overlay\",\"size\":10,\"solidity\":0.2}},\"type\":\"barpolar\"}],\"pie\":[{\"automargin\":true,\"type\":\"pie\"}]},\"layout\":{\"autotypenumbers\":\"strict\",\"colorway\":[\"#636efa\",\"#EF553B\",\"#00cc96\",\"#ab63fa\",\"#FFA15A\",\"#19d3f3\",\"#FF6692\",\"#B6E880\",\"#FF97FF\",\"#FECB52\"],\"font\":{\"color\":\"#2a3f5f\"},\"hovermode\":\"closest\",\"hoverlabel\":{\"align\":\"left\"},\"paper_bgcolor\":\"white\",\"plot_bgcolor\":\"#E5ECF6\",\"polar\":{\"bgcolor\":\"#E5ECF6\",\"angularaxis\":{\"gridcolor\":\"white\",\"linecolor\":\"white\",\"ticks\":\"\"},\"radialaxis\":{\"gridcolor\":\"white\",\"linecolor\":\"white\",\"ticks\":\"\"}},\"ternary\":{\"bgcolor\":\"#E5ECF6\",\"aaxis\":{\"gridcolor\":\"white\",\"linecolor\":\"white\",\"ticks\":\"\"},\"baxis\":{\"gridcolor\":\"white\",\"linecolor\":\"white\",\"ticks\":\"\"},\"caxis\":{\"gridcolor\":\"white\",\"linecolor\":\"white\",\"ticks\":\"\"}},\"coloraxis\":{\"colorbar\":{\"outlinewidth\":0,\"ticks\":\"\"}},\"colorscale\":{\"sequential\":[[0.0,\"#0d0887\"],[0.1111111111111111,\"#46039f\"],[0.2222222222222222,\"#7201a8\"],[0.3333333333333333,\"#9c179e\"],[0.4444444444444444,\"#bd3786\"],[0.5555555555555556,\"#d8576b\"],[0.6666666666666666,\"#ed7953\"],[0.7777777777777778,\"#fb9f3a\"],[0.8888888888888888,\"#fdca26\"],[1.0,\"#f0f921\"]],\"sequentialminus\":[[0.0,\"#0d0887\"],[0.1111111111111111,\"#46039f\"],[0.2222222222222222,\"#7201a8\"],[0.3333333333333333,\"#9c179e\"],[0.4444444444444444,\"#bd3786\"],[0.5555555555555556,\"#d8576b\"],[0.6666666666666666,\"#ed7953\"],[0.7777777777777778,\"#fb9f3a\"],[0.8888888888888888,\"#fdca26\"],[1.0,\"#f0f921\"]],\"diverging\":[[0,\"#8e0152\"],[0.1,\"#c51b7d\"],[0.2,\"#de77ae\"],[0.3,\"#f1b6da\"],[0.4,\"#fde0ef\"],[0.5,\"#f7f7f7\"],[0.6,\"#e6f5d0\"],[0.7,\"#b8e186\"],[0.8,\"#7fbc41\"],[0.9,\"#4d9221\"],[1,\"#276419\"]]},\"xaxis\":{\"gridcolor\":\"white\",\"linecolor\":\"white\",\"ticks\":\"\",\"title\":{\"standoff\":15},\"zerolinecolor\":\"white\",\"automargin\":true,\"zerolinewidth\":2},\"yaxis\":{\"gridcolor\":\"white\",\"linecolor\":\"white\",\"ticks\":\"\",\"title\":{\"standoff\":15},\"zerolinecolor\":\"white\",\"automargin\":true,\"zerolinewidth\":2},\"scene\":{\"xaxis\":{\"backgroundcolor\":\"#E5ECF6\",\"gridcolor\":\"white\",\"linecolor\":\"white\",\"showbackground\":true,\"ticks\":\"\",\"zerolinecolor\":\"white\",\"gridwidth\":2},\"yaxis\":{\"backgroundcolor\":\"#E5ECF6\",\"gridcolor\":\"white\",\"linecolor\":\"white\",\"showbackground\":true,\"ticks\":\"\",\"zerolinecolor\":\"white\",\"gridwidth\":2},\"zaxis\":{\"backgroundcolor\":\"#E5ECF6\",\"gridcolor\":\"white\",\"linecolor\":\"white\",\"showbackground\":true,\"ticks\":\"\",\"zerolinecolor\":\"white\",\"gridwidth\":2}},\"shapedefaults\":{\"line\":{\"color\":\"#2a3f5f\"}},\"annotationdefaults\":{\"arrowcolor\":\"#2a3f5f\",\"arrowhead\":0,\"arrowwidth\":1},\"geo\":{\"bgcolor\":\"white\",\"landcolor\":\"#E5ECF6\",\"subunitcolor\":\"white\",\"showland\":true,\"showlakes\":true,\"lakecolor\":\"white\"},\"title\":{\"x\":0.05},\"mapbox\":{\"style\":\"light\"}}},\"title\":{\"text\":\"Class Distribution train\"}},                        {\"responsive\": true}                    ).then(function(){\n",
       "                            \n",
       "var gd = document.getElementById('6229bfef-191a-4b23-bd4b-9274fbc206db');\n",
       "var x = new MutationObserver(function (mutations, observer) {{\n",
       "        var display = window.getComputedStyle(gd).display;\n",
       "        if (!display || display === 'none') {{\n",
       "            console.log([gd, 'removed!']);\n",
       "            Plotly.purge(gd);\n",
       "            observer.disconnect();\n",
       "        }}\n",
       "}});\n",
       "\n",
       "// Listen for the removal of the full notebook cells\n",
       "var notebookContainer = gd.closest('#notebook-container');\n",
       "if (notebookContainer) {{\n",
       "    x.observe(notebookContainer, {childList: true});\n",
       "}}\n",
       "\n",
       "// Listen for the clearing of the current output cell\n",
       "var outputEl = gd.closest('.output');\n",
       "if (outputEl) {{\n",
       "    x.observe(outputEl, {childList: true});\n",
       "}}\n",
       "\n",
       "                        })                };                });            </script>        </div>"
      ]
     },
     "metadata": {},
     "output_type": "display_data"
    }
   ],
   "source": [
    "dist = df['category'].value_counts()\n",
    "import plotly.graph_objects as go\n",
    "def ditribution_plot(x,y,name):\n",
    "    fig = go.Figure([\n",
    "        go.Bar(x=x, y=y)\n",
    "    ])\n",
    "\n",
    "    fig.update_layout(title_text=name)\n",
    "    fig.show()\n",
    "ditribution_plot(x= dist.index, y= dist.values, name= 'Class Distribution train')"
   ]
  },
  {
   "cell_type": "code",
   "execution_count": 12,
   "id": "9df7f220",
   "metadata": {
    "execution": {
     "iopub.execute_input": "2022-07-03T20:21:40.356857Z",
     "iopub.status.busy": "2022-07-03T20:21:40.355991Z",
     "iopub.status.idle": "2022-07-03T20:21:40.363400Z",
     "shell.execute_reply": "2022-07-03T20:21:40.362401Z"
    },
    "papermill": {
     "duration": 0.017339,
     "end_time": "2022-07-03T20:21:40.365373",
     "exception": false,
     "start_time": "2022-07-03T20:21:40.348034",
     "status": "completed"
    },
    "tags": []
   },
   "outputs": [
    {
     "data": {
      "text/plain": [
       "'def clean_text(df, field):\\n    df[field] = df[field].str.replace(r\"@\",\" at \")\\n    df[field] = df[field].str.replace(\"#[^a-zA-Z0-9_]+\",\" \")\\n    df[field] = df[field].str.replace(r\"[^a-zA-Z(),\"\\'\\n_]\",\" \")\\n    df[field] = df[field].str.replace(r\"http\\\\S+\",\"\")\\n    df[field] = df[field].str.lower()\\n    return df\\n\\nclean_text(df,\\'tweet\\')'"
      ]
     },
     "execution_count": 12,
     "metadata": {},
     "output_type": "execute_result"
    }
   ],
   "source": [
    "'''def clean_text(df, field):\n",
    "    df[field] = df[field].str.replace(r\"@\",\" at \")\n",
    "    df[field] = df[field].str.replace(\"#[^a-zA-Z0-9_]+\",\" \")\n",
    "    df[field] = df[field].str.replace(r\"[^a-zA-Z(),\\\"'\\n_]\",\" \")\n",
    "    df[field] = df[field].str.replace(r\"http\\S+\",\"\")\n",
    "    df[field] = df[field].str.lower()\n",
    "    return df\n",
    "\n",
    "clean_text(df,'tweet')'''"
   ]
  },
  {
   "cell_type": "code",
   "execution_count": 13,
   "id": "f9438ca8",
   "metadata": {
    "execution": {
     "iopub.execute_input": "2022-07-03T20:21:40.380939Z",
     "iopub.status.busy": "2022-07-03T20:21:40.380062Z",
     "iopub.status.idle": "2022-07-03T20:21:40.386070Z",
     "shell.execute_reply": "2022-07-03T20:21:40.385146Z"
    },
    "papermill": {
     "duration": 0.015899,
     "end_time": "2022-07-03T20:21:40.388124",
     "exception": false,
     "start_time": "2022-07-03T20:21:40.372225",
     "status": "completed"
    },
    "tags": []
   },
   "outputs": [
    {
     "data": {
      "text/plain": [
       "\"stem = PorterStemmer()\\ndf['clean_text'] = [stem.stem(word) for word in df['clean_text'] if not word in stopwords.words('english')]\""
      ]
     },
     "execution_count": 13,
     "metadata": {},
     "output_type": "execute_result"
    }
   ],
   "source": [
    "'''stem = PorterStemmer()\n",
    "df['clean_text'] = [stem.stem(word) for word in df['clean_text'] if not word in stopwords.words('english')]'''"
   ]
  },
  {
   "cell_type": "code",
   "execution_count": 14,
   "id": "0670bac3",
   "metadata": {
    "execution": {
     "iopub.execute_input": "2022-07-03T20:21:40.403047Z",
     "iopub.status.busy": "2022-07-03T20:21:40.402769Z",
     "iopub.status.idle": "2022-07-03T20:21:48.112891Z",
     "shell.execute_reply": "2022-07-03T20:21:48.111962Z"
    },
    "papermill": {
     "duration": 7.720103,
     "end_time": "2022-07-03T20:21:48.115147",
     "exception": false,
     "start_time": "2022-07-03T20:21:40.395044",
     "status": "completed"
    },
    "tags": []
   },
   "outputs": [
    {
     "data": {
      "text/plain": [
       "0         [42, 1, 307, 42492, 66, 1726, 42493, 1119, 40,...\n",
       "1         [286, 16, 2, 1104, 3, 718, 16, 2, 809, 7, 38, ...\n",
       "2         [24, 53, 41, 99, 38, 4, 1, 1003, 21, 508, 5, 5...\n",
       "3         [383, 19, 496, 4730, 113, 43, 1221, 1, 53, 126...\n",
       "4         [390, 22, 813, 79, 2, 173, 926, 127, 136, 124,...\n",
       "                                ...                        \n",
       "162975    [32, 79, 5172, 474, 570, 2429, 1, 6, 2715, 17,...\n",
       "162976    [305, 363, 529, 13161, 10149, 24, 36, 1, 1195,...\n",
       "162977        [53, 5, 1718, 234, 2583, 7526, 118, 191, 397]\n",
       "162978    [63, 183, 558, 360, 192, 9, 1, 924, 558, 15, 6...\n",
       "162979    [14, 5, 260, 686, 36, 26, 35329, 118, 4882, 10...\n",
       "Name: clean_text, Length: 162969, dtype: object"
      ]
     },
     "execution_count": 14,
     "metadata": {},
     "output_type": "execute_result"
    }
   ],
   "source": [
    "from keras.preprocessing.text import Tokenizer\n",
    "tokenizer = Tokenizer()\n",
    "tokenizer.fit_on_texts(df['clean_text'])\n",
    "df['clean_text'] = tokenizer.texts_to_sequences(df['clean_text'])\n",
    "df['clean_text']"
   ]
  },
  {
   "cell_type": "code",
   "execution_count": 15,
   "id": "85c56894",
   "metadata": {
    "execution": {
     "iopub.execute_input": "2022-07-03T20:21:48.131965Z",
     "iopub.status.busy": "2022-07-03T20:21:48.131246Z",
     "iopub.status.idle": "2022-07-03T20:21:48.212620Z",
     "shell.execute_reply": "2022-07-03T20:21:48.211527Z"
    },
    "papermill": {
     "duration": 0.092203,
     "end_time": "2022-07-03T20:21:48.215098",
     "exception": false,
     "start_time": "2022-07-03T20:21:48.122895",
     "status": "completed"
    },
    "tags": []
   },
   "outputs": [
    {
     "data": {
      "text/plain": [
       "0         -1\n",
       "1          0\n",
       "2          1\n",
       "3          1\n",
       "4          1\n",
       "          ..\n",
       "162975    -1\n",
       "162976    -1\n",
       "162977     0\n",
       "162978     0\n",
       "162979     1\n",
       "Name: category, Length: 162969, dtype: object"
      ]
     },
     "execution_count": 15,
     "metadata": {},
     "output_type": "execute_result"
    }
   ],
   "source": [
    "df['category'].mask(df['category'] == 'negative',-1,  inplace=True)\n",
    "df['category'].mask(df['category'] == 'normal',0,  inplace=True)\n",
    "df['category'].mask(df['category'] == 'positive',1,  inplace=True)\n",
    "df['category']"
   ]
  },
  {
   "cell_type": "code",
   "execution_count": 16,
   "id": "f668ec3c",
   "metadata": {
    "execution": {
     "iopub.execute_input": "2022-07-03T20:21:48.231498Z",
     "iopub.status.busy": "2022-07-03T20:21:48.231159Z",
     "iopub.status.idle": "2022-07-03T20:21:48.259383Z",
     "shell.execute_reply": "2022-07-03T20:21:48.258362Z"
    },
    "papermill": {
     "duration": 0.039136,
     "end_time": "2022-07-03T20:21:48.261677",
     "exception": false,
     "start_time": "2022-07-03T20:21:48.222541",
     "status": "completed"
    },
    "tags": []
   },
   "outputs": [],
   "source": [
    "X_train, X_test, y_train, y_test = train_test_split(df['clean_text'],df['category'], test_size=0.2, random_state=40)"
   ]
  },
  {
   "cell_type": "code",
   "execution_count": 17,
   "id": "a925bd49",
   "metadata": {
    "execution": {
     "iopub.execute_input": "2022-07-03T20:21:48.278187Z",
     "iopub.status.busy": "2022-07-03T20:21:48.277849Z",
     "iopub.status.idle": "2022-07-03T20:21:48.283458Z",
     "shell.execute_reply": "2022-07-03T20:21:48.282541Z"
    },
    "papermill": {
     "duration": 0.017056,
     "end_time": "2022-07-03T20:21:48.286369",
     "exception": false,
     "start_time": "2022-07-03T20:21:48.269313",
     "status": "completed"
    },
    "tags": []
   },
   "outputs": [
    {
     "name": "stdout",
     "output_type": "stream",
     "text": [
      "X_train: 130375\n",
      "y_train: 130375\n",
      "X_test: 32594\n",
      "y_test: 32594\n"
     ]
    }
   ],
   "source": [
    "print('X_train:',len(X_train))\n",
    "print('y_train:',len(y_train))\n",
    "print('X_test:',len(X_test))\n",
    "print('y_test:',len(y_test))"
   ]
  },
  {
   "cell_type": "code",
   "execution_count": 18,
   "id": "c1596e45",
   "metadata": {
    "execution": {
     "iopub.execute_input": "2022-07-03T20:21:48.303676Z",
     "iopub.status.busy": "2022-07-03T20:21:48.302885Z",
     "iopub.status.idle": "2022-07-03T20:21:49.230379Z",
     "shell.execute_reply": "2022-07-03T20:21:49.229390Z"
    },
    "papermill": {
     "duration": 0.938087,
     "end_time": "2022-07-03T20:21:49.232716",
     "exception": false,
     "start_time": "2022-07-03T20:21:48.294629",
     "status": "completed"
    },
    "tags": []
   },
   "outputs": [],
   "source": [
    "X_train = pad_sequences( X_train, maxlen=100 ,dtype='float32')\n",
    "X_test = pad_sequences( X_test, maxlen=100 ,dtype='float32')"
   ]
  },
  {
   "cell_type": "code",
   "execution_count": 19,
   "id": "61ea48f7",
   "metadata": {
    "execution": {
     "iopub.execute_input": "2022-07-03T20:21:49.250135Z",
     "iopub.status.busy": "2022-07-03T20:21:49.249303Z",
     "iopub.status.idle": "2022-07-03T20:21:49.257087Z",
     "shell.execute_reply": "2022-07-03T20:21:49.256234Z"
    },
    "papermill": {
     "duration": 0.018394,
     "end_time": "2022-07-03T20:21:49.258934",
     "exception": false,
     "start_time": "2022-07-03T20:21:49.240540",
     "status": "completed"
    },
    "tags": []
   },
   "outputs": [
    {
     "data": {
      "text/plain": [
       "113678"
      ]
     },
     "execution_count": 19,
     "metadata": {},
     "output_type": "execute_result"
    }
   ],
   "source": [
    "len(tokenizer.index_word)"
   ]
  },
  {
   "cell_type": "code",
   "execution_count": 20,
   "id": "3e308110",
   "metadata": {
    "execution": {
     "iopub.execute_input": "2022-07-03T20:21:49.277012Z",
     "iopub.status.busy": "2022-07-03T20:21:49.275390Z",
     "iopub.status.idle": "2022-07-03T20:21:52.442821Z",
     "shell.execute_reply": "2022-07-03T20:21:52.441722Z"
    },
    "papermill": {
     "duration": 3.179392,
     "end_time": "2022-07-03T20:21:52.446106",
     "exception": false,
     "start_time": "2022-07-03T20:21:49.266714",
     "status": "completed"
    },
    "tags": []
   },
   "outputs": [
    {
     "name": "stderr",
     "output_type": "stream",
     "text": [
      "2022-07-03 20:21:49.368163: I tensorflow/stream_executor/cuda/cuda_gpu_executor.cc:937] successful NUMA node read from SysFS had negative value (-1), but there must be at least one NUMA node, so returning NUMA node zero\n",
      "2022-07-03 20:21:49.481379: I tensorflow/stream_executor/cuda/cuda_gpu_executor.cc:937] successful NUMA node read from SysFS had negative value (-1), but there must be at least one NUMA node, so returning NUMA node zero\n",
      "2022-07-03 20:21:49.482200: I tensorflow/stream_executor/cuda/cuda_gpu_executor.cc:937] successful NUMA node read from SysFS had negative value (-1), but there must be at least one NUMA node, so returning NUMA node zero\n",
      "2022-07-03 20:21:49.483495: I tensorflow/core/platform/cpu_feature_guard.cc:142] This TensorFlow binary is optimized with oneAPI Deep Neural Network Library (oneDNN) to use the following CPU instructions in performance-critical operations:  AVX2 AVX512F FMA\n",
      "To enable them in other operations, rebuild TensorFlow with the appropriate compiler flags.\n",
      "2022-07-03 20:21:49.483849: I tensorflow/stream_executor/cuda/cuda_gpu_executor.cc:937] successful NUMA node read from SysFS had negative value (-1), but there must be at least one NUMA node, so returning NUMA node zero\n",
      "2022-07-03 20:21:49.484778: I tensorflow/stream_executor/cuda/cuda_gpu_executor.cc:937] successful NUMA node read from SysFS had negative value (-1), but there must be at least one NUMA node, so returning NUMA node zero\n",
      "2022-07-03 20:21:49.485670: I tensorflow/stream_executor/cuda/cuda_gpu_executor.cc:937] successful NUMA node read from SysFS had negative value (-1), but there must be at least one NUMA node, so returning NUMA node zero\n",
      "2022-07-03 20:21:51.611291: I tensorflow/stream_executor/cuda/cuda_gpu_executor.cc:937] successful NUMA node read from SysFS had negative value (-1), but there must be at least one NUMA node, so returning NUMA node zero\n",
      "2022-07-03 20:21:51.612139: I tensorflow/stream_executor/cuda/cuda_gpu_executor.cc:937] successful NUMA node read from SysFS had negative value (-1), but there must be at least one NUMA node, so returning NUMA node zero\n",
      "2022-07-03 20:21:51.612919: I tensorflow/stream_executor/cuda/cuda_gpu_executor.cc:937] successful NUMA node read from SysFS had negative value (-1), but there must be at least one NUMA node, so returning NUMA node zero\n",
      "2022-07-03 20:21:51.613525: I tensorflow/core/common_runtime/gpu/gpu_device.cc:1510] Created device /job:localhost/replica:0/task:0/device:GPU:0 with 15403 MB memory:  -> device: 0, name: Tesla P100-PCIE-16GB, pci bus id: 0000:00:04.0, compute capability: 6.0\n"
     ]
    },
    {
     "name": "stdout",
     "output_type": "stream",
     "text": [
      "Model: \"sequential\"\n",
      "_________________________________________________________________\n",
      "Layer (type)                 Output Shape              Param #   \n",
      "=================================================================\n",
      "embedding (Embedding)        (None, 64, 50)            5683950   \n",
      "_________________________________________________________________\n",
      "bidirectional (Bidirectional (None, 200)               120800    \n",
      "_________________________________________________________________\n",
      "flatten (Flatten)            (None, 200)               0         \n",
      "_________________________________________________________________\n",
      "dense (Dense)                (None, 250)               50250     \n",
      "_________________________________________________________________\n",
      "dropout (Dropout)            (None, 250)               0         \n",
      "_________________________________________________________________\n",
      "dense_1 (Dense)              (None, 1)                 251       \n",
      "=================================================================\n",
      "Total params: 5,855,251\n",
      "Trainable params: 5,855,251\n",
      "Non-trainable params: 0\n",
      "_________________________________________________________________\n"
     ]
    }
   ],
   "source": [
    "model_1 = Sequential()\n",
    "model_1.add(Embedding(len(tokenizer.index_word)+1, input_length= 64 ,output_dim =50))\n",
    "model_1.add(Bidirectional(LSTM(100)))\n",
    "model_1.add(Flatten())\n",
    "model_1.add(Dense(250, activation='relu'))\n",
    "model_1.add(Dropout(0.2))\n",
    "model_1.add(Dense(1, activation='sigmoid'))\n",
    "\n",
    "model_1.compile(\"adam\", loss= 'binary_crossentropy' ,metrics=[\"accuracy\"])\n",
    "model_1.summary()"
   ]
  },
  {
   "cell_type": "code",
   "execution_count": 21,
   "id": "6c04f9b1",
   "metadata": {
    "execution": {
     "iopub.execute_input": "2022-07-03T20:21:52.464016Z",
     "iopub.status.busy": "2022-07-03T20:21:52.463730Z",
     "iopub.status.idle": "2022-07-03T20:21:52.468545Z",
     "shell.execute_reply": "2022-07-03T20:21:52.467523Z"
    },
    "papermill": {
     "duration": 0.015764,
     "end_time": "2022-07-03T20:21:52.470677",
     "exception": false,
     "start_time": "2022-07-03T20:21:52.454913",
     "status": "completed"
    },
    "tags": []
   },
   "outputs": [],
   "source": [
    "from keras.callbacks import EarlyStopping\n",
    "early_stop = EarlyStopping(monitor=\"val_loss\",patience=5,verbose=True)"
   ]
  },
  {
   "cell_type": "code",
   "execution_count": 22,
   "id": "8993ee9f",
   "metadata": {
    "execution": {
     "iopub.execute_input": "2022-07-03T20:21:52.487712Z",
     "iopub.status.busy": "2022-07-03T20:21:52.487418Z",
     "iopub.status.idle": "2022-07-03T20:21:52.530710Z",
     "shell.execute_reply": "2022-07-03T20:21:52.529730Z"
    },
    "papermill": {
     "duration": 0.054541,
     "end_time": "2022-07-03T20:21:52.533143",
     "exception": false,
     "start_time": "2022-07-03T20:21:52.478602",
     "status": "completed"
    },
    "tags": []
   },
   "outputs": [],
   "source": [
    "X_train = np.asarray(X_train).astype(np.float32)\n",
    "X_test = np.asarray(X_test).astype(np.float32)\n",
    "\n",
    "y_train = np.asarray(y_train).astype('float32').reshape((-1,1))\n",
    "y_test = np.asarray(y_test).astype('float32').reshape((-1,1))"
   ]
  },
  {
   "cell_type": "code",
   "execution_count": 23,
   "id": "112c8fa0",
   "metadata": {
    "execution": {
     "iopub.execute_input": "2022-07-03T20:21:52.551332Z",
     "iopub.status.busy": "2022-07-03T20:21:52.550522Z",
     "iopub.status.idle": "2022-07-03T20:26:17.289350Z",
     "shell.execute_reply": "2022-07-03T20:26:17.288339Z"
    },
    "papermill": {
     "duration": 264.750568,
     "end_time": "2022-07-03T20:26:17.291889",
     "exception": false,
     "start_time": "2022-07-03T20:21:52.541321",
     "status": "completed"
    },
    "tags": []
   },
   "outputs": [
    {
     "name": "stderr",
     "output_type": "stream",
     "text": [
      "2022-07-03 20:21:52.690787: I tensorflow/compiler/mlir/mlir_graph_optimization_pass.cc:185] None of the MLIR Optimization Passes are enabled (registered 2)\n"
     ]
    },
    {
     "name": "stdout",
     "output_type": "stream",
     "text": [
      "Epoch 1/7\n"
     ]
    },
    {
     "name": "stderr",
     "output_type": "stream",
     "text": [
      "2022-07-03 20:21:56.454932: I tensorflow/stream_executor/cuda/cuda_dnn.cc:369] Loaded cuDNN version 8005\n"
     ]
    },
    {
     "name": "stdout",
     "output_type": "stream",
     "text": [
      "2038/2038 [==============================] - 38s 16ms/step - loss: -2459.0239 - accuracy: 0.5261 - val_loss: -11827.6797 - val_accuracy: 0.6721\n",
      "Epoch 2/7\n",
      "2038/2038 [==============================] - 32s 16ms/step - loss: -22885.1289 - accuracy: 0.5979 - val_loss: -20169.3848 - val_accuracy: 0.5876\n",
      "Epoch 3/7\n",
      "2038/2038 [==============================] - 35s 17ms/step - loss: -73696.3203 - accuracy: 0.6447 - val_loss: -102316.1875 - val_accuracy: 0.6949\n",
      "Epoch 4/7\n",
      "2038/2038 [==============================] - 32s 16ms/step - loss: -158957.2812 - accuracy: 0.6409 - val_loss: -165186.8125 - val_accuracy: 0.6667\n",
      "Epoch 5/7\n",
      "2038/2038 [==============================] - 32s 16ms/step - loss: -215412.7500 - accuracy: 0.6117 - val_loss: -291410.0938 - val_accuracy: 0.6567\n",
      "Epoch 6/7\n",
      "2038/2038 [==============================] - 33s 16ms/step - loss: -400651.3750 - accuracy: 0.6570 - val_loss: -427005.3438 - val_accuracy: 0.6431\n",
      "Epoch 7/7\n",
      "2038/2038 [==============================] - 32s 16ms/step - loss: -603363.5000 - accuracy: 0.6664 - val_loss: -625456.3125 - val_accuracy: 0.6708\n"
     ]
    }
   ],
   "source": [
    "history_1 = model_1.fit(X_train , y_train ,batch_size=64, epochs=7,\n",
    "                    validation_data=(X_test , y_test),callbacks=[early_stop])"
   ]
  },
  {
   "cell_type": "code",
   "execution_count": 24,
   "id": "1fd241e2",
   "metadata": {
    "execution": {
     "iopub.execute_input": "2022-07-03T20:26:17.800162Z",
     "iopub.status.busy": "2022-07-03T20:26:17.799103Z",
     "iopub.status.idle": "2022-07-03T20:26:17.808179Z",
     "shell.execute_reply": "2022-07-03T20:26:17.807282Z"
    },
    "papermill": {
     "duration": 0.236071,
     "end_time": "2022-07-03T20:26:17.810171",
     "exception": false,
     "start_time": "2022-07-03T20:26:17.574100",
     "status": "completed"
    },
    "tags": []
   },
   "outputs": [],
   "source": [
    "y_train = to_categorical(y_train, 3)\n",
    "y_test = to_categorical(y_test, 3)"
   ]
  },
  {
   "cell_type": "code",
   "execution_count": 25,
   "id": "b6ea0e10",
   "metadata": {
    "execution": {
     "iopub.execute_input": "2022-07-03T20:26:18.256961Z",
     "iopub.status.busy": "2022-07-03T20:26:18.256625Z",
     "iopub.status.idle": "2022-07-03T20:26:18.474623Z",
     "shell.execute_reply": "2022-07-03T20:26:18.473610Z"
    },
    "papermill": {
     "duration": 0.444993,
     "end_time": "2022-07-03T20:26:18.477644",
     "exception": false,
     "start_time": "2022-07-03T20:26:18.032651",
     "status": "completed"
    },
    "tags": []
   },
   "outputs": [
    {
     "name": "stdout",
     "output_type": "stream",
     "text": [
      "Model: \"sequential_1\"\n",
      "_________________________________________________________________\n",
      "Layer (type)                 Output Shape              Param #   \n",
      "=================================================================\n",
      "embedding_1 (Embedding)      (None, 64, 100)           11367900  \n",
      "_________________________________________________________________\n",
      "lstm_1 (LSTM)                (None, 100)               80400     \n",
      "_________________________________________________________________\n",
      "dense_2 (Dense)              (None, 128)               12928     \n",
      "_________________________________________________________________\n",
      "dense_3 (Dense)              (None, 3)                 387       \n",
      "=================================================================\n",
      "Total params: 11,461,615\n",
      "Trainable params: 11,461,615\n",
      "Non-trainable params: 0\n",
      "_________________________________________________________________\n"
     ]
    }
   ],
   "source": [
    "model = Sequential()\n",
    "model.add(Embedding(len(tokenizer.index_word)+1, input_length= 64 ,output_dim =100))\n",
    "model.add(LSTM(100))\n",
    "model.add(Dense(128, activation='relu'))\n",
    "model.add(Dense(3, activation='sigmoid'))\n",
    "\n",
    "model.compile(\"adam\", loss= 'categorical_crossentropy' ,metrics=[\"accuracy\"])\n",
    "model.summary()"
   ]
  },
  {
   "cell_type": "code",
   "execution_count": 26,
   "id": "db430eeb",
   "metadata": {
    "execution": {
     "iopub.execute_input": "2022-07-03T20:26:18.926555Z",
     "iopub.status.busy": "2022-07-03T20:26:18.926215Z",
     "iopub.status.idle": "2022-07-03T20:27:01.298287Z",
     "shell.execute_reply": "2022-07-03T20:27:01.297119Z"
    },
    "papermill": {
     "duration": 42.600328,
     "end_time": "2022-07-03T20:27:01.301167",
     "exception": false,
     "start_time": "2022-07-03T20:26:18.700839",
     "status": "completed"
    },
    "tags": []
   },
   "outputs": [
    {
     "name": "stdout",
     "output_type": "stream",
     "text": [
      "Epoch 1/4\n",
      "510/510 [==============================] - 10s 16ms/step - loss: 0.3618 - accuracy: 0.8587 - val_loss: 0.1681 - val_accuracy: 0.9510\n",
      "Epoch 2/4\n",
      "510/510 [==============================] - 8s 15ms/step - loss: 0.1082 - accuracy: 0.9673 - val_loss: 0.1403 - val_accuracy: 0.9588\n",
      "Epoch 3/4\n",
      "510/510 [==============================] - 8s 16ms/step - loss: 0.0644 - accuracy: 0.9797 - val_loss: 0.1366 - val_accuracy: 0.9603\n",
      "Epoch 4/4\n",
      "510/510 [==============================] - 8s 15ms/step - loss: 0.0440 - accuracy: 0.9857 - val_loss: 0.1290 - val_accuracy: 0.9615\n"
     ]
    }
   ],
   "source": [
    "history = model.fit(X_train , y_train ,batch_size=256, epochs=4,\n",
    "                    validation_data=(X_test , y_test),callbacks=[early_stop])"
   ]
  },
  {
   "cell_type": "code",
   "execution_count": 27,
   "id": "61445933",
   "metadata": {
    "execution": {
     "iopub.execute_input": "2022-07-03T20:27:01.858907Z",
     "iopub.status.busy": "2022-07-03T20:27:01.857970Z",
     "iopub.status.idle": "2022-07-03T20:27:04.094778Z",
     "shell.execute_reply": "2022-07-03T20:27:04.093852Z"
    },
    "papermill": {
     "duration": 2.492792,
     "end_time": "2022-07-03T20:27:04.096947",
     "exception": false,
     "start_time": "2022-07-03T20:27:01.604155",
     "status": "completed"
    },
    "tags": []
   },
   "outputs": [
    {
     "name": "stdout",
     "output_type": "stream",
     "text": [
      "510/510 [==============================] - 2s 4ms/step - loss: 0.1290 - accuracy: 0.9615\n"
     ]
    }
   ],
   "source": [
    "results = model.evaluate(X_test, y_test, batch_size=64)"
   ]
  }
 ],
 "metadata": {
  "kernelspec": {
   "display_name": "Python 3",
   "language": "python",
   "name": "python3"
  },
  "language_info": {
   "codemirror_mode": {
    "name": "ipython",
    "version": 3
   },
   "file_extension": ".py",
   "mimetype": "text/x-python",
   "name": "python",
   "nbconvert_exporter": "python",
   "pygments_lexer": "ipython3",
   "version": "3.7.12"
  },
  "papermill": {
   "default_parameters": {},
   "duration": 343.482292,
   "end_time": "2022-07-03T20:27:08.126634",
   "environment_variables": {},
   "exception": null,
   "input_path": "__notebook__.ipynb",
   "output_path": "__notebook__.ipynb",
   "parameters": {},
   "start_time": "2022-07-03T20:21:24.644342",
   "version": "2.3.4"
  }
 },
 "nbformat": 4,
 "nbformat_minor": 5
}
